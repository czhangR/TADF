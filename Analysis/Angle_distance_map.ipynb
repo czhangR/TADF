{
 "cells": [
  {
   "cell_type": "markdown",
   "metadata": {},
   "source": [
    "# Combine angle and distance"
   ]
  },
  {
   "cell_type": "code",
   "execution_count": null,
   "metadata": {},
   "outputs": [],
   "source": [
    "import numpy as np\n",
    "import copy\n",
    "import matplotlib.pyplot as plt\n",
    "from scipy import optimize\n",
    "from matplotlib.colors import ListedColormap\n",
    "\n",
    "import psutil\n",
    "import os\n",
    "import gc\n",
    "\n",
    "np.random.seed([170786])"
   ]
  },
  {
   "cell_type": "code",
   "execution_count": null,
   "metadata": {},
   "outputs": [],
   "source": [
    "def read_files(route):\n",
    "    file = open(f\"{route}\",\"r\")\n",
    "    info_r1 = file.readlines()\n",
    "    file.close()\n",
    "\n",
    "    info = psutil.virtual_memory()\n",
    "    print(psutil.Process(os.getpid()).memory_info().rss)\n",
    "    print(info.total)\n",
    "    print(info.percent)\n",
    "    print(psutil.cpu_count())\n",
    "\n",
    "\n",
    "\n",
    "    info_s1 = []\n",
    "    for i in range (len(info_r1)):\n",
    "        info_s1.append(info_r1[i].split())\n",
    "    info_r1 = []\n",
    "\n",
    "    print(\"---------------------------------------------------------\")\n",
    "    info = psutil.virtual_memory()\n",
    "    print(psutil.Process(os.getpid()).memory_info().rss)\n",
    "    print(info.total)\n",
    "    print(info.percent)\n",
    "    print(psutil.cpu_count())\n",
    "    \n",
    "    Natom_s1 = int(info_s1[3][0])\n",
    "    index_s1 = []\n",
    "    for i in range (len(info_s1)):\n",
    "        if info_s1[i] == ['ITEM:', 'TIMESTEP']:\n",
    "            index_s1.append(i)\n",
    "\n",
    "    splited_trj1 = []\n",
    "    for j in range (len(index_s1)):\n",
    "        frame = np.zeros((Natom_s1,5))\n",
    "        for i in range (Natom_s1):\n",
    "            frame[i,0] = int(info_s1[index_s1[j]+i+9][0])\n",
    "            frame[i,1] = float(info_s1[index_s1[j]+i+9][1])\n",
    "            frame[i,2] = float(info_s1[index_s1[j]+i+9][2])\n",
    "            frame[i,3] = float(info_s1[index_s1[j]+i+9][3])\n",
    "            frame[i,4] = float(info_s1[index_s1[j]+i+9][4])\n",
    "        splited_trj1.append([frame,info_s1[index_s1[j]+5:index_s1[j]+8]])\n",
    "    \n",
    "    return splited_trj1"
   ]
  },
  {
   "cell_type": "code",
   "execution_count": null,
   "metadata": {},
   "outputs": [],
   "source": [
    "def wrap_coordiante(pos1,bx,by,bz):\n",
    "    new_pos = np.zeros((1,3))\n",
    "    \n",
    "    new_pos[0,0] = pos1[0][0]-bx*np.floor(pos1[0][0]/bx)\n",
    "    new_pos[0,1] = pos1[0][1]-by*np.floor(pos1[0][1]/by)\n",
    "    new_pos[0,2] = pos1[0][2]-bz*np.floor(pos1[0][2]/bz)\n",
    "\n",
    "    return new_pos"
   ]
  },
  {
   "cell_type": "code",
   "execution_count": null,
   "metadata": {},
   "outputs": [],
   "source": [
    "def wrap_distance(n1,n2,bx,by,bz):\n",
    "    relevant_pos = np.zeros((1,3))\n",
    "    new_coordiantes = np.zeros((1,3))\n",
    "    \n",
    "    relevant_pos[0,0] = n2[0,0]-n1[0,0]\n",
    "    relevant_pos[0,1] = n2[0,1]-n1[0,1]\n",
    "    relevant_pos[0,2] = n2[0,2]-n1[0,2]\n",
    "    \n",
    "    new_coordiantes[0,0] = relevant_pos[0,0]-bx*np.round(relevant_pos[0,0]/bx)\n",
    "    new_coordiantes[0,1] = relevant_pos[0,1]-by*np.round(relevant_pos[0,1]/by)\n",
    "    new_coordiantes[0,2] = relevant_pos[0,2]-bz*np.round(relevant_pos[0,2]/bz)\n",
    "    \n",
    "    return np.sqrt(new_coordiantes[0,0]**2+new_coordiantes[0,1]**2+new_coordiantes[0,2]**2)"
   ]
  },
  {
   "cell_type": "code",
   "execution_count": null,
   "metadata": {},
   "outputs": [],
   "source": [
    "def mass_center2(pos1,pos2,low_x,low_y,low_z):\n",
    "    c = np.zeros((1,3))\n",
    "    \n",
    "    c[0,0] = (pos1[0]+pos2[0])/2-low_x\n",
    "    c[0,1] = (pos1[1]+pos2[1])/2-low_y\n",
    "    c[0,2] = (pos1[2]+pos2[2])/2-low_z\n",
    "    \n",
    "    return c"
   ]
  },
  {
   "cell_type": "code",
   "execution_count": null,
   "metadata": {},
   "outputs": [],
   "source": [
    "def center_distance(n1,n2,bx,by,bz):\n",
    "    new_n1 = wrap_coordiante(n1,bx,by,bz)\n",
    "    new_n2 = wrap_coordiante(n2,bx,by,bz)\n",
    "    \n",
    "    dis = wrap_distance(new_n1,new_n2,bx,by,bz)\n",
    "    \n",
    "    return dis"
   ]
  },
  {
   "cell_type": "markdown",
   "metadata": {},
   "source": [
    "## Angle calculation"
   ]
  },
  {
   "cell_type": "code",
   "execution_count": null,
   "metadata": {},
   "outputs": [],
   "source": [
    "def Normal_vector(pos1,pos2,pos3):\n",
    "    vec1 = np.zeros((1,3))\n",
    "    vec2 = np.zeros((1,3))\n",
    "\n",
    "    vec1[0,0] = pos2[0]-pos1[0]\n",
    "    vec1[0,1] = pos2[1]-pos1[1]\n",
    "    vec1[0,2] = pos2[2]-pos1[2]\n",
    "\n",
    "    vec2[0,0] = pos3[0]-pos1[0]\n",
    "    vec2[0,1] = pos3[1]-pos1[1]\n",
    "    vec2[0,2] = pos3[2]-pos1[2]\n",
    "\n",
    "    # normal vector\n",
    "    n1 = np.zeros((1,3))\n",
    "    n1 = np.cross(vec1,vec2)\n",
    "    \n",
    "    n1 = n1/np.sqrt(n1[0,0]**2+n1[0,1]**2+n1[0,2]**2)\n",
    "\n",
    "    return n1"
   ]
  },
  {
   "cell_type": "code",
   "execution_count": null,
   "metadata": {},
   "outputs": [],
   "source": [
    "def included_anlge(n1,n2):\n",
    "    \n",
    "    included_angle = np.arccos(np.dot(n1,np.transpose(n2)))/np.pi*180\n",
    "\n",
    "    return included_angle"
   ]
  },
  {
   "cell_type": "code",
   "execution_count": null,
   "metadata": {},
   "outputs": [],
   "source": [
    "def wrap_angle(angle):\n",
    "    \n",
    "    if angle>=90 and angle<=180:\n",
    "        t = 180-angle\n",
    "    else:\n",
    "        t = angle\n",
    "        \n",
    "    return t"
   ]
  },
  {
   "cell_type": "markdown",
   "metadata": {},
   "source": [
    "## calculation"
   ]
  },
  {
   "cell_type": "code",
   "execution_count": null,
   "metadata": {},
   "outputs": [],
   "source": [
    "def do1(target,traj,boundary_x,boundary_y,boundary_z,low_x,low_y,low_z):\n",
    "        ## distribution\n",
    "    N_index = []\n",
    "    for i in range (len(traj[target][0])):\n",
    "        if traj[target][0][i][1] == 14.007:\n",
    "            N_index.append(i)\n",
    "\n",
    "    a_distribution = []\n",
    "    d_distribution = []\n",
    "    a_masscenter = []\n",
    "    d_masscenter = []\n",
    "    for i in range (int(len(N_index)/2)):\n",
    "        a_vector = Normal_vector(traj[target][0][N_index[2*i+1]-3][2:],traj[target][0][N_index[2*i+1]-1][2:],traj[target][0][N_index[2*i+1]+17][2:])\n",
    "        d_vector = Normal_vector(traj[target][0][N_index[2*i+1]][2:],traj[target][0][N_index[2*i+1]+6][2:],traj[target][0][N_index[2*i+1]+10][2:])\n",
    "        a_distribution.append(a_vector)\n",
    "        d_distribution.append(d_vector)\n",
    "\n",
    "        a_mass = mass_center2(traj[target][0][N_index[2*i+1]-4][2:],traj[target][0][N_index[2*i+1]-1][2:],low_x,low_y,low_z)\n",
    "        d_mass = mass_center2(traj[target][0][N_index[2*i+1]][2:],traj[target][0][N_index[2*i+1]+7][2:],low_x,low_y,low_z)\n",
    "        a_masscenter.append(a_mass)\n",
    "        d_masscenter.append(d_mass)\n",
    "    \n",
    "    return  a_distribution,d_distribution,a_masscenter,d_masscenter"
   ]
  },
  {
   "cell_type": "code",
   "execution_count": null,
   "metadata": {},
   "outputs": [],
   "source": [
    "def scan_self(a_angle,a_mass,boundary_x,boundary_y,boundary_z):\n",
    "    \n",
    "    information = []\n",
    "    for i in range (len(a_mass)):\n",
    "        for j in range (i+1,len(a_mass)):\n",
    "            dis = center_distance(a_mass[i],a_mass[j],boundary_x,boundary_y,boundary_z)\n",
    "            if dis<dis_limit:\n",
    "                ang = included_anlge(a_angle[i],a_angle[j])\n",
    "                information.append([dis,ang[0][0]])\n",
    "                \n",
    "    return information"
   ]
  },
  {
   "cell_type": "code",
   "execution_count": null,
   "metadata": {},
   "outputs": [],
   "source": [
    "def scan_others(a_angle,a_mass,d_angle,d_mass,boundary_x,boundary_y,boundary_z):\n",
    "    \n",
    "    information = []\n",
    "    for i in range (len(a_mass)):\n",
    "        for j in range (len(d_mass)):\n",
    "            dis = center_distance(a_mass[i],d_mass[j],boundary_x,boundary_y,boundary_z)\n",
    "            if dis<dis_limit:\n",
    "                ang = included_anlge(a_angle[i],d_angle[j])\n",
    "                information.append([dis,ang[0][0]])\n",
    "                \n",
    "    return information"
   ]
  },
  {
   "cell_type": "code",
   "execution_count": null,
   "metadata": {},
   "outputs": [],
   "source": [
    "def scan_exclude(a_angle,a_mass,d_angle,d_mass,boundary_x,boundary_y,boundary_z):\n",
    "    \n",
    "    information = []\n",
    "    for i in range (len(a_mass)):\n",
    "        for j in range (len(d_mass)):\n",
    "            if i!=j:\n",
    "                dis = center_distance(a_mass[i],d_mass[j],boundary_x,boundary_y,boundary_z)\n",
    "                if dis<dis_limit:\n",
    "                    ang = included_anlge(a_angle[i],d_angle[j])\n",
    "                    information.append([dis,ang[0][0]])\n",
    "                \n",
    "    return information"
   ]
  },
  {
   "cell_type": "markdown",
   "metadata": {},
   "source": [
    "# Calculate"
   ]
  },
  {
   "cell_type": "code",
   "execution_count": null,
   "metadata": {},
   "outputs": [],
   "source": [
    "def get_map(traj,target,type_):\n",
    "    \n",
    "    low_x = float(traj[target][1][0][0])\n",
    "    low_y = float(traj[target][1][1][0])\n",
    "    low_z = float(traj[target][1][2][0])\n",
    "    \n",
    "    boundary_x = float(traj[target][1][0][1])-low_x\n",
    "    boundary_y = float(traj[target][1][1][1])-low_y\n",
    "    boundary_z = float(traj[target][1][2][1])-low_z\n",
    "    \n",
    "    a_distribution,d_distribution,a_masscenter,d_masscenter = do1(target,traj,boundary_x,boundary_y,boundary_z,low_x,low_y,low_z)\n",
    "\n",
    "    n_dis_bins = int(dis_limit/dis_interval)\n",
    "    n_ang_bins = int(90/angle_interval)\n",
    "    data_plot = np.zeros((n_dis_bins,n_ang_bins))\n",
    "    \n",
    "    if type_ == \"AA\":\n",
    "        information_list = scan_self(a_distribution,a_masscenter,boundary_x,boundary_y,boundary_z)\n",
    "    elif type_ == \"DA\":\n",
    "        information_list = scan_others(a_distribution,a_masscenter,d_distribution,d_masscenter,boundary_x,boundary_y,boundary_z)\n",
    "    elif type_ ==\"DA_exclude\":\n",
    "        information_list = scan_exclude(a_distribution,a_masscenter,d_distribution,d_masscenter,boundary_x,boundary_y,boundary_z)\n",
    "    elif type_ == \"DD\":\n",
    "        information_list = scan_self(d_distribution,d_masscenter,boundary_x,boundary_y,boundary_z)\n",
    "    \n",
    "    for id_ in range (len(information_list)):\n",
    "        dis_loc = int(np.floor(information_list[id_][0]/dis_interval))\n",
    "        ang_loc = int(np.floor(wrap_angle(information_list[id_][1])/angle_interval))\n",
    "        data_plot[dis_loc,ang_loc] += 1/(4/3*np.pi*(((dis_loc+1)*dis_interval)**3-(dis_loc*dis_interval)**3))\n",
    "        \n",
    "    return data_plot"
   ]
  },
  {
   "cell_type": "code",
   "execution_count": null,
   "metadata": {},
   "outputs": [],
   "source": [
    "def plot_map_ori(data_plot_all,id_,type_):\n",
    "    # discrete color scheme\n",
    "    # cMap = ListedColormap(['white', 'green', 'blue','red'])\n",
    "    cm = plt.cm.get_cmap(\"Blues\")\n",
    "    \n",
    "    data_plot = np.zeros((np.shape(data_plot_all[0])[0],np.shape(data_plot_all[0])[1]))\n",
    "    for i in range (np.shape(data_plot_all[0])[0]):\n",
    "        for j in range (np.shape(data_plot_all[0])[1]):\n",
    "            for t in range (len(data_plot_all)):\n",
    "                data_plot[i,j] += data_plot_all[t][i,j]\n",
    "            data_plot[i,j] /= len(data_plot_all)\n",
    "\n",
    "## For single frame\n",
    "#     data_plot = np.zeros((np.shape(data_plot_all)[0],np.shape(data_plot_all)[1]))        \n",
    "#     for i in range (np.shape(data_plot_all)[0]):\n",
    "#         for j in range (np.shape(data_plot_all)[1]):\n",
    "#             data_plot[i,j] += data_plot_all[i,j]\n",
    "\n",
    "            \n",
    "    # data\n",
    "    fig = plt.figure(figsize=(8,6))\n",
    "    ax = fig.add_subplot(111)\n",
    "#     heatmap = ax.pcolor(np.transpose(data_plot/np.max(data_plot)), cmap=cm)\n",
    "    heatmap = ax.pcolor(np.transpose(data_plot), cmap=cm)\n",
    "    \n",
    "\n",
    "    # legend\n",
    "    cbar = plt.colorbar(heatmap)\n",
    "#     cbar.set_label('$P (\\Theta_{AA},r_{AA})$', rotation=90,size=15)\n",
    "\n",
    "    # put the major ticks at the middle of each cell\n",
    "    ax.set_xticks(np.arange(data_plot.shape[0]/10+1)*10, minor=False)\n",
    "    ax.set_yticks(np.arange(data_plot.shape[1]/4.5)*5, minor=False)\n",
    "\n",
    "    # labels\n",
    "    column_labels = [0,5,10,15,20,25]\n",
    "    row_labels = [0,10,20,30,40,50,60,70,80,90]\n",
    "    ax.set_xticklabels(column_labels, minor=False)\n",
    "    ax.set_yticklabels(row_labels, minor=False)\n",
    "#     plt.xlabel(\"$\\ r_{AA}$ $ (\\AA)$\",size=15)\n",
    "#     plt.ylabel(\"$\\Theta_{AA}$  $(^\\circ)$\",size=15)\n",
    "    plt.title(f\"{name} {id_}%\",size=20)\n",
    "\n",
    "    \n",
    "    if type_ == \"AA\":\n",
    "        cbar.set_label('$P (\\Theta_{AA},r_{AA})$', rotation=90,size=15)\n",
    "        plt.xlabel(\"$\\ r_{AA}$ $ (\\AA)$\",size=15)\n",
    "        plt.ylabel(\"$\\Theta_{AA}$  $(^\\circ)$\",size=15)\n",
    "    elif type_ == \"DD\":\n",
    "        cbar.set_label('$P (\\Theta_{DD},r_{DD})$', rotation=90,size=15)\n",
    "        plt.xlabel(\"$\\ r_{DD}$ $ (\\AA)$\",size=15)\n",
    "        plt.ylabel(\"$\\Theta_{DD}$  $(^\\circ)$\",size=15)\n",
    "    else:\n",
    "        cbar.set_label('$P (\\Theta_{DA},r_{DA})$', rotation=90,size=15)\n",
    "        plt.xlabel(\"$\\ r_{DA}$ $ (\\AA)$\",size=15)\n",
    "        plt.ylabel(\"$\\Theta_{DA}$  $(^\\circ)$\",size=15)\n",
    "\n",
    "    plt.savefig(f\"21Dec-rerun/{temperature}_{name}_{type_}_{id_}%.pdf\")\n",
    "    \n",
    "    plt.show()"
   ]
  },
  {
   "cell_type": "code",
   "execution_count": null,
   "metadata": {},
   "outputs": [],
   "source": [
    "def write_data(data_plot_all,name,strain,type_):\n",
    "    \n",
    "    data_plot = np.zeros((np.shape(data_plot_all[0])[0],np.shape(data_plot_all[0])[1]))\n",
    "    for i in range (np.shape(data_plot_all[0])[0]): # distance\n",
    "        for j in range (np.shape(data_plot_all[0])[1]): # angle\n",
    "            for t in range (len(data_plot_all)):\n",
    "                data_plot[i,j] += data_plot_all[t][i,j]\n",
    "            data_plot[i,j] /= len(data_plot_all)\n",
    "    \n",
    "    file = open(f\"21Dec-rerun/{name}_{strain}_{type_}.txt\",\"w\")\n",
    "    \n",
    "    file.write(\"distance from 0 - 25 (interval 0.5, unit Angstrom), angle from 0 - 90 (interval 2, unit degree).\")\n",
    "    file.write(\"\\n\")\n",
    "    file.write(\"every line has the same distance information, and increasing angle. Line starts from short distance.\")\n",
    "    file.write(\"\\n\")\n",
    "    \n",
    "    file.write(\"\\n\")\n",
    "    for i in range (np.shape(data_plot_all[0])[0]):\n",
    "        for j in range (np.shape(data_plot_all[0])[1]):\n",
    "            file.write(f\"{data_plot[i,j]}\"+\" \")\n",
    "        file.write(\"\\n\")\n",
    "    \n",
    "    file.close()"
   ]
  },
  {
   "cell_type": "markdown",
   "metadata": {},
   "source": [
    "## M\n",
    "### 0%"
   ]
  },
  {
   "cell_type": "code",
   "execution_count": null,
   "metadata": {},
   "outputs": [],
   "source": [
    "name = \"PDKCM\"\n",
    "temperature = 1.2\n",
    "\n",
    "dis_limit = 25\n",
    "dis_interval = 0.5\n",
    "angle_interval = 2\n",
    "\n",
    "splited_trj1 = read_files(\"m/s0-ta.trj\")"
   ]
  },
  {
   "cell_type": "code",
   "execution_count": null,
   "metadata": {},
   "outputs": [],
   "source": [
    "data_m_0_DD = []\n",
    "for i in range (int(np.floor(len(splited_trj1)/10))+1):\n",
    "    data_m_0_DD.append(get_map(splited_trj1,i*10,\"DD\"))\n",
    "\n",
    "plot_map_ori(data_m_0_DD,0,\"DD\")"
   ]
  },
  {
   "cell_type": "code",
   "execution_count": null,
   "metadata": {},
   "outputs": [],
   "source": [
    "data_m_0_AA = []\n",
    "for i in range (int(np.floor(len(splited_trj1)/10))+1):\n",
    "    data_m_0_AA.append(get_map(splited_trj1,i*10,\"AA\"))\n",
    "plot_map_ori(data_m_0_AA,0,\"AA\")"
   ]
  },
  {
   "cell_type": "code",
   "execution_count": null,
   "metadata": {},
   "outputs": [],
   "source": [
    "data_m_0_AD_exclude = []\n",
    "for i in range (int(np.floor(len(splited_trj1)/10))+1):\n",
    "    data_m_0_AD_exclude.append(get_map(splited_trj1,i*10,\"DA_exclude\"))\n",
    "plot_map_ori(data_m_0_AD_exclude,0,\"DA_exclude\")"
   ]
  },
  {
   "cell_type": "code",
   "execution_count": null,
   "metadata": {},
   "outputs": [],
   "source": [
    "write_data(data_m_0_DD,\"PDKCM\",0,\"DD\")\n",
    "write_data(data_m_0_AA,\"PDKCM\",0,\"AA\")\n",
    "write_data(data_m_0_AD_exclude,\"PDKCM\",0,\"AD_ex\")"
   ]
  },
  {
   "cell_type": "markdown",
   "metadata": {},
   "source": [
    "## 50%"
   ]
  },
  {
   "cell_type": "code",
   "execution_count": null,
   "metadata": {},
   "outputs": [],
   "source": [
    "name = \"PDKCM\"\n",
    "temperature = 1.2\n",
    "\n",
    "dis_limit = 25\n",
    "dis_interval = 0.5\n",
    "angle_interval = 2\n",
    "\n",
    "splited_trj1 = read_files(\"m/s10_ta.trj\")"
   ]
  },
  {
   "cell_type": "code",
   "execution_count": null,
   "metadata": {},
   "outputs": [],
   "source": [
    "data_m_50_DD = []\n",
    "for i in range (int(np.floor(len(splited_trj1)/10))+1):\n",
    "    data_m_50_DD.append(get_map(splited_trj1,i*10,\"DD\"))\n",
    "\n",
    "plot_map_ori(data_m_50_DD,50,\"DD\")"
   ]
  },
  {
   "cell_type": "code",
   "execution_count": null,
   "metadata": {},
   "outputs": [],
   "source": [
    "data_m_50_AA = []\n",
    "for i in range (int(np.floor(len(splited_trj1)/10))+1):\n",
    "    data_m_50_AA.append(get_map(splited_trj1,i*10,\"AA\"))\n",
    "plot_map_ori(data_m_50_AA,50,\"AA\")"
   ]
  },
  {
   "cell_type": "code",
   "execution_count": null,
   "metadata": {},
   "outputs": [],
   "source": [
    "data_m_50_AD_exclude = []\n",
    "for i in range (int(np.floor(len(splited_trj1)/10))+1):\n",
    "    data_m_50_AD_exclude.append(get_map(splited_trj1,i*10,\"DA_exclude\"))\n",
    "plot_map_ori(data_m_50_AD_exclude,50,\"DA_exclude\")"
   ]
  },
  {
   "cell_type": "code",
   "execution_count": null,
   "metadata": {},
   "outputs": [],
   "source": [
    "write_data(data_m_50_DD,\"PDKCM\",50,\"DD\")\n",
    "write_data(data_m_50_AA,\"PDKCM\",50,\"AA\")\n",
    "write_data(data_m_50_AD_exclude,\"PDKCM\",50,\"AD_ex\")"
   ]
  },
  {
   "cell_type": "markdown",
   "metadata": {},
   "source": [
    "## 100%"
   ]
  },
  {
   "cell_type": "code",
   "execution_count": null,
   "metadata": {},
   "outputs": [],
   "source": [
    "name = \"PDKCM\"\n",
    "temperature = 1.2\n",
    "\n",
    "dis_limit = 25\n",
    "dis_interval = 0.5\n",
    "angle_interval = 2\n",
    "\n",
    "splited_trj1 = read_files(\"m/s20_ta.trj\")"
   ]
  },
  {
   "cell_type": "code",
   "execution_count": null,
   "metadata": {},
   "outputs": [],
   "source": [
    "data_m_100_DD = []\n",
    "for i in range (int(np.floor(len(splited_trj1)/10))+1):\n",
    "    data_m_100_DD.append(get_map(splited_trj1,i*10,\"DD\"))\n",
    "plot_map_ori(data_m_100_DD,100,\"DD\")"
   ]
  },
  {
   "cell_type": "code",
   "execution_count": null,
   "metadata": {},
   "outputs": [],
   "source": [
    "data_m_100_AA = []\n",
    "for i in range (int(np.floor(len(splited_trj1)/10))+1):\n",
    "    data_m_100_AA.append(get_map(splited_trj1,i*10,\"AA\"))\n",
    "plot_map_ori(data_m_100_AA,100,\"AA\")"
   ]
  },
  {
   "cell_type": "code",
   "execution_count": null,
   "metadata": {},
   "outputs": [],
   "source": [
    "data_m_100_AD_exclude = []\n",
    "for i in range (int(np.floor(len(splited_trj1)/10))+1):\n",
    "    data_m_100_AD_exclude.append(get_map(splited_trj1,i*10,\"DA_exclude\"))\n",
    "plot_map_ori(data_m_100_AD_exclude,100,\"DA_exclude\")"
   ]
  },
  {
   "cell_type": "code",
   "execution_count": null,
   "metadata": {},
   "outputs": [],
   "source": [
    "write_data(data_m_100_DD,\"PDKCM\",100,\"DD\")\n",
    "write_data(data_m_100_AA,\"PDKCM\",100,\"AA\")\n",
    "write_data(data_m_100_AD_exclude,\"PDKCM\",100,\"AD_ex\")"
   ]
  },
  {
   "cell_type": "markdown",
   "metadata": {},
   "source": [
    "# P"
   ]
  },
  {
   "cell_type": "markdown",
   "metadata": {},
   "source": [
    "### 0%"
   ]
  },
  {
   "cell_type": "code",
   "execution_count": null,
   "metadata": {},
   "outputs": [],
   "source": [
    "name = \"PDKCP\"\n",
    "sname = \"p\"\n",
    "temperature = 1.2\n",
    "\n",
    "dis_limit = 25\n",
    "dis_interval = 0.5\n",
    "angle_interval = 2\n",
    "\n",
    "\n",
    "splited_trj1 = read_files(f\"{sname}/s0_ta.trj\")"
   ]
  },
  {
   "cell_type": "code",
   "execution_count": null,
   "metadata": {},
   "outputs": [],
   "source": [
    "data_p_0_DD = []\n",
    "for i in range (int(np.floor(len(splited_trj1)/10))+1):\n",
    "    data_p_0_DD.append(get_map(splited_trj1,i*10,\"DD\"))\n",
    "    \n",
    "plot_map_ori(data_p_0_DD,0,\"DD\")"
   ]
  },
  {
   "cell_type": "code",
   "execution_count": null,
   "metadata": {},
   "outputs": [],
   "source": [
    "data_p_0_AA = []\n",
    "for i in range (int(np.floor(len(splited_trj1)/10))+1):\n",
    "    data_p_0_AA.append(get_map(splited_trj1,i*10,\"AA\"))\n",
    "    \n",
    "plot_map_ori(data_p_0_AA,0,\"AA\")"
   ]
  },
  {
   "cell_type": "code",
   "execution_count": null,
   "metadata": {},
   "outputs": [],
   "source": [
    "data_p_0_AD_exclude = []\n",
    "for i in range (int(np.floor(len(splited_trj1)/10))+1):\n",
    "    data_p_0_AD_exclude.append(get_map(splited_trj1,i*10,\"DA_exclude\"))\n",
    "    \n",
    "plot_map_ori(data_p_0_AD_exclude,0,\"DA_exclude\")"
   ]
  },
  {
   "cell_type": "code",
   "execution_count": null,
   "metadata": {},
   "outputs": [],
   "source": [
    "write_data(data_p_0_DD,\"PDKCP\",0,\"DD\")\n",
    "write_data(data_p_0_AA,\"PDKCP\",0,\"AA\")\n",
    "write_data(data_p_0_AD_exclude,\"PDKCP\",0,\"AD_ex\")"
   ]
  },
  {
   "cell_type": "markdown",
   "metadata": {},
   "source": [
    "### 50%"
   ]
  },
  {
   "cell_type": "code",
   "execution_count": null,
   "metadata": {},
   "outputs": [],
   "source": [
    "name = \"PDKCP\"\n",
    "sname = \"p\"\n",
    "temperature = 1.2\n",
    "\n",
    "dis_limit = 25\n",
    "dis_interval = 0.5\n",
    "angle_interval = 2\n",
    "\n",
    "splited_trj1 = read_files(f\"{sname}/s10_ta.trj\")"
   ]
  },
  {
   "cell_type": "code",
   "execution_count": null,
   "metadata": {},
   "outputs": [],
   "source": [
    "data_p_50_DD = []\n",
    "for i in range (int(np.floor(len(splited_trj1)/10))+1):\n",
    "    data_p_50_DD.append(get_map(splited_trj1,i*10,\"DD\"))\n",
    "plot_map_ori(data_p_50_DD,50,\"DD\")"
   ]
  },
  {
   "cell_type": "code",
   "execution_count": null,
   "metadata": {},
   "outputs": [],
   "source": [
    "data_p_50_AA = []\n",
    "for i in range (int(np.floor(len(splited_trj1)/10))+1):\n",
    "    data_p_50_AA.append(get_map(splited_trj1,i*10,\"AA\"))\n",
    "plot_map_ori(data_p_50_AA,50,\"AA\")"
   ]
  },
  {
   "cell_type": "code",
   "execution_count": null,
   "metadata": {},
   "outputs": [],
   "source": [
    "data_p_50_AD_exclude = []\n",
    "for i in range (int(np.floor(len(splited_trj1)/10))+1):\n",
    "    data_p_50_AD_exclude.append(get_map(splited_trj1,i*10,\"DA_exclude\"))\n",
    "plot_map_ori(data_p_50_AD_exclude,50,\"DA_exclude\")"
   ]
  },
  {
   "cell_type": "code",
   "execution_count": null,
   "metadata": {},
   "outputs": [],
   "source": [
    "write_data(data_p_50_DD,\"PDKCP\",50,\"DD\")\n",
    "write_data(data_p_50_AA,\"PDKCP\",50,\"AA\")\n",
    "write_data(data_p_50_AD_exclude,\"PDKCP\",50,\"AD_ex\")"
   ]
  },
  {
   "cell_type": "markdown",
   "metadata": {},
   "source": [
    "### 100%"
   ]
  },
  {
   "cell_type": "code",
   "execution_count": null,
   "metadata": {},
   "outputs": [],
   "source": [
    "name = \"PDKCP\"\n",
    "sname = \"p\"\n",
    "temperature = 1.2\n",
    "\n",
    "dis_limit = 25\n",
    "dis_interval = 0.5\n",
    "angle_interval = 2\n",
    "\n",
    "\n",
    "splited_trj1 = read_files(f\"{sname}/s20_ta.trj\")"
   ]
  },
  {
   "cell_type": "code",
   "execution_count": null,
   "metadata": {},
   "outputs": [],
   "source": [
    "data_p_100_DD = []\n",
    "for i in range (int(np.floor(len(splited_trj1)/10))+1):\n",
    "    data_p_100_DD.append(get_map(splited_trj1,i*10,\"DD\"))\n",
    "plot_map_ori(data_p_100_DD,100,\"DD\")"
   ]
  },
  {
   "cell_type": "code",
   "execution_count": null,
   "metadata": {},
   "outputs": [],
   "source": [
    "data_p_100_AA = []\n",
    "for i in range (int(np.floor(len(splited_trj1)/10))+1):\n",
    "    data_p_100_AA.append(get_map(splited_trj1,i*10,\"AA\"))\n",
    "plot_map_ori(data_p_100_AA,100,\"AA\")"
   ]
  },
  {
   "cell_type": "code",
   "execution_count": null,
   "metadata": {},
   "outputs": [],
   "source": [
    "data_p_100_AD_exclude = []\n",
    "for i in range (int(np.floor(len(splited_trj1)/10))+1):\n",
    "    data_p_100_AD_exclude.append(get_map(splited_trj1,i*10,\"DA_exclude\"))\n",
    "plot_map_ori(data_p_100_AD_exclude,100,\"DA_exclude\")"
   ]
  },
  {
   "cell_type": "code",
   "execution_count": null,
   "metadata": {},
   "outputs": [],
   "source": [
    "write_data(data_p_100_DD,\"PDKCP\",100,\"DD\")\n",
    "write_data(data_p_100_AA,\"PDKCP\",100,\"AA\")\n",
    "write_data(data_p_100_AD_exclude,\"PDKCP\",100,\"AD_ex\")"
   ]
  },
  {
   "cell_type": "markdown",
   "metadata": {},
   "source": [
    "# H"
   ]
  },
  {
   "cell_type": "markdown",
   "metadata": {},
   "source": [
    "### 0%"
   ]
  },
  {
   "cell_type": "code",
   "execution_count": null,
   "metadata": {},
   "outputs": [],
   "source": [
    "name = \"PDKCH\"\n",
    "sname = \"h\"\n",
    "temperature = 1.2\n",
    "\n",
    "dis_limit = 25\n",
    "dis_interval = 0.5\n",
    "angle_interval = 2\n",
    "\n",
    "splited_trj1 = read_files(f\"{sname}/s0_ta.trj\")\n",
    "splited_trj2 = read_files(f\"{sname}/s0_ta-2.trj\")"
   ]
  },
  {
   "cell_type": "code",
   "execution_count": null,
   "metadata": {},
   "outputs": [],
   "source": [
    "data_h_0_DD = []\n",
    "for i in range (int(np.floor(len(splited_trj1)/10))+1):\n",
    "    data_h_0_DD.append(get_map(splited_trj1,10*i,\"DD\"))\n",
    "    \n",
    "for i in range (int(np.floor(len(splited_trj2)/10))+1):\n",
    "    data_h_0_DD.append(get_map(splited_trj2,10*i,\"DD\"))\n",
    "    \n",
    "plot_map_ori(data_h_0_DD,0,\"DD\")"
   ]
  },
  {
   "cell_type": "code",
   "execution_count": null,
   "metadata": {},
   "outputs": [],
   "source": [
    "data_h_0_AA = []\n",
    "for i in range (int(np.floor(len(splited_trj1)/10))+1):\n",
    "    data_h_0_AA.append(get_map(splited_trj1,10*i,\"AA\"))\n",
    "    \n",
    "for i in range (int(np.floor(len(splited_trj2)/10))+1):\n",
    "    data_h_0_AA.append(get_map(splited_trj2,10*i,\"AA\"))\n",
    "    \n",
    "plot_map_ori(data_h_0_AA,0,\"AA\")"
   ]
  },
  {
   "cell_type": "code",
   "execution_count": null,
   "metadata": {},
   "outputs": [],
   "source": [
    "data_h_0_AD_exclude = []\n",
    "for i in range (int(np.floor(len(splited_trj1)/10))+1):\n",
    "    data_h_0_AD_exclude.append(get_map(splited_trj1,i*10,\"DA_exclude\"))\n",
    "    \n",
    "for i in range (int(np.floor(len(splited_trj2)/10))+1):\n",
    "    data_h_0_AD_exclude.append(get_map(splited_trj2,i*10,\"DA_exclude\"))\n",
    "\n",
    "plot_map_ori(data_h_0_AD_exclude,0,\"DA_exclude\")"
   ]
  },
  {
   "cell_type": "code",
   "execution_count": null,
   "metadata": {},
   "outputs": [],
   "source": [
    "write_data(data_h_0_DD,\"PDKCH\",0,\"DD\")\n",
    "write_data(data_h_0_AA,\"PDKCH\",0,\"AA\")\n",
    "write_data(data_h_0_AD_exclude,\"PDKCH\",0,\"AD_ex\")"
   ]
  },
  {
   "cell_type": "markdown",
   "metadata": {},
   "source": [
    "### 50%"
   ]
  },
  {
   "cell_type": "code",
   "execution_count": null,
   "metadata": {},
   "outputs": [],
   "source": [
    "name = \"PDKCH\"\n",
    "sname = \"h\"\n",
    "temperature = 1.2\n",
    "\n",
    "dis_limit = 25\n",
    "dis_interval = 0.5\n",
    "angle_interval = 2\n",
    "\n",
    "\n",
    "splited_trj1 = read_files(f\"{sname}/s10_ta.trj\")\n",
    "splited_trj2 = read_files(f\"{sname}/s10_ta-2.trj\")"
   ]
  },
  {
   "cell_type": "code",
   "execution_count": null,
   "metadata": {},
   "outputs": [],
   "source": [
    "data_h_50_DD = []\n",
    "for i in range (int(np.floor(len(splited_trj1)/10))+1):\n",
    "    data_h_50_DD.append(get_map(splited_trj1,10*i,\"DD\"))\n",
    "    \n",
    "for i in range (int(np.floor(len(splited_trj2)/10))+1):\n",
    "    data_h_50_DD.append(get_map(splited_trj2,10*i,\"DD\"))\n",
    "    \n",
    "plot_map_ori(data_h_50_DD,50,\"DD\")"
   ]
  },
  {
   "cell_type": "code",
   "execution_count": null,
   "metadata": {},
   "outputs": [],
   "source": [
    "data_h_50_AA = []\n",
    "for i in range (int(np.floor(len(splited_trj1)/10))+1):\n",
    "    data_h_50_AA.append(get_map(splited_trj1,10*i,\"AA\"))\n",
    "    \n",
    "for i in range (int(np.floor(len(splited_trj2)/10))+1):\n",
    "    data_h_50_AA.append(get_map(splited_trj2,10*i,\"AA\"))\n",
    "    \n",
    "plot_map_ori(data_h_50_AA,50,\"AA\")"
   ]
  },
  {
   "cell_type": "code",
   "execution_count": null,
   "metadata": {},
   "outputs": [],
   "source": [
    "data_h_50_AD_exclude = []\n",
    "for i in range (int(np.floor(len(splited_trj1)/10))+1):\n",
    "    data_h_50_AD_exclude.append(get_map(splited_trj1,i*10,\"DA_exclude\"))\n",
    "    \n",
    "for i in range (int(np.floor(len(splited_trj2)/10))+1):\n",
    "    data_h_50_AD_exclude.append(get_map(splited_trj2,i*10,\"DA_exclude\"))\n",
    "\n",
    "plot_map_ori(data_h_50_AD_exclude,50,\"DA_exclude\")"
   ]
  },
  {
   "cell_type": "code",
   "execution_count": null,
   "metadata": {},
   "outputs": [],
   "source": [
    "write_data(data_h_50_DD,\"PDKCH\",50,\"DD\")\n",
    "write_data(data_h_50_AA,\"PDKCH\",50,\"AA\")\n",
    "write_data(data_h_50_AD_exclude,\"PDKCH\",50,\"AD_ex\")"
   ]
  },
  {
   "cell_type": "markdown",
   "metadata": {},
   "source": [
    "### 100%"
   ]
  },
  {
   "cell_type": "code",
   "execution_count": null,
   "metadata": {},
   "outputs": [],
   "source": [
    "name = \"PDKCH\"\n",
    "sname = \"h\"\n",
    "temperature = 1.2\n",
    "\n",
    "dis_limit = 25\n",
    "dis_interval = 0.5\n",
    "angle_interval = 2\n",
    "\n",
    "splited_trj1 = read_files(f\"{sname}/s20_ta.trj\")"
   ]
  },
  {
   "cell_type": "code",
   "execution_count": null,
   "metadata": {},
   "outputs": [],
   "source": [
    "data_h_100_DD = []\n",
    "\n",
    "for i in range (int(np.floor(len(splited_trj1)/10))+1):\n",
    "    data_h_100_DD.append(get_map(splited_trj1,10*i,\"DD\"))\n",
    "\n",
    "plot_map_ori(data_h_100_DD,100,\"DD\")"
   ]
  },
  {
   "cell_type": "code",
   "execution_count": null,
   "metadata": {},
   "outputs": [],
   "source": [
    "data_h_100_AA = []\n",
    "\n",
    "for i in range (int(np.floor(len(splited_trj1)/10))+1):\n",
    "    data_h_100_AA.append(get_map(splited_trj1,10*i,\"AA\"))\n",
    "\n",
    "plot_map_ori(data_h_100_AA,100,\"AA\")"
   ]
  },
  {
   "cell_type": "code",
   "execution_count": null,
   "metadata": {},
   "outputs": [],
   "source": [
    "data_h_100_AD_exclude = []\n",
    "\n",
    "for i in range (int(np.floor(len(splited_trj1)/10))+1):\n",
    "    data_h_100_AD_exclude.append(get_map(splited_trj1,i*10,\"DA_exclude\"))\n",
    "\n",
    "plot_map_ori(data_h_100_AD_exclude,100,\"DA_exclude\")"
   ]
  },
  {
   "cell_type": "code",
   "execution_count": null,
   "metadata": {},
   "outputs": [],
   "source": [
    "write_data(data_h_100_DD,\"PDKCH\",100,\"DD\")\n",
    "write_data(data_h_100_AA,\"PDKCH\",100,\"AA\")\n",
    "write_data(data_h_100_AD_exclude,\"PDKCH\",100,\"AD_ex\")"
   ]
  },
  {
   "cell_type": "markdown",
   "metadata": {},
   "source": [
    "# D"
   ]
  },
  {
   "cell_type": "markdown",
   "metadata": {},
   "source": [
    "### 0%"
   ]
  },
  {
   "cell_type": "code",
   "execution_count": null,
   "metadata": {},
   "outputs": [],
   "source": [
    "name = \"PDKCD\"\n",
    "sname = \"d\"\n",
    "temperature = 1.2\n",
    "\n",
    "dis_limit = 25\n",
    "dis_interval = 0.5\n",
    "angle_interval = 2\n",
    "\n",
    "splited_trj1 = read_files(f\"{sname}/s0_ta.trj\")\n",
    "splited_trj2 = read_files(f\"{sname}/s0_ta-2.trj\")"
   ]
  },
  {
   "cell_type": "code",
   "execution_count": null,
   "metadata": {},
   "outputs": [],
   "source": [
    "data_d_0_DD = []\n",
    "\n",
    "for i in range (int(np.floor(len(splited_trj1)/10))+1):\n",
    "    data_d_0_DD.append(get_map(splited_trj1,i*10,\"DD\"))\n",
    "    \n",
    "for i in range (int(np.floor(len(splited_trj2)/10))+1):\n",
    "    data_d_0_DD.append(get_map(splited_trj2,10*i,\"DD\"))\n",
    "    \n",
    "plot_map_ori(data_d_0_DD,0,\"DD\")"
   ]
  },
  {
   "cell_type": "code",
   "execution_count": null,
   "metadata": {},
   "outputs": [],
   "source": [
    "data_d_0_AA = []\n",
    "\n",
    "for i in range (int(np.floor(len(splited_trj1)/10))+1):\n",
    "    data_d_0_AA.append(get_map(splited_trj1,i*10,\"AA\"))\n",
    "    \n",
    "for i in range (int(np.floor(len(splited_trj2)/10))+1):\n",
    "    data_d_0_AA.append(get_map(splited_trj2,10*i,\"AA\"))\n",
    "    \n",
    "plot_map_ori(data_d_0_AA,0,\"AA\")"
   ]
  },
  {
   "cell_type": "code",
   "execution_count": null,
   "metadata": {},
   "outputs": [],
   "source": [
    "data_d_0_AD_exclude = []\n",
    "\n",
    "for i in range (int(np.floor(len(splited_trj1)/10))+1):\n",
    "    data_d_0_AD_exclude.append(get_map(splited_trj1,i*10,\"DA_exclude\"))\n",
    "    \n",
    "for i in range (int(np.floor(len(splited_trj2)/10))+1):\n",
    "    data_d_0_AD_exclude.append(get_map(splited_trj2,10*i,\"DA_exclude\"))\n",
    "    \n",
    "plot_map_ori(data_d_0_AD_exclude,0,\"DA_exclude\")"
   ]
  },
  {
   "cell_type": "code",
   "execution_count": null,
   "metadata": {},
   "outputs": [],
   "source": [
    "write_data(data_d_0_DD,\"PDKCD\",0,\"DD\")\n",
    "write_data(data_d_0_AA,\"PDKCD\",0,\"AA\")\n",
    "write_data(data_d_0_AD_exclude,\"PDKCD\",0,\"AD_ex\")"
   ]
  },
  {
   "cell_type": "markdown",
   "metadata": {},
   "source": [
    "## 50%"
   ]
  },
  {
   "cell_type": "code",
   "execution_count": null,
   "metadata": {},
   "outputs": [],
   "source": [
    "name = \"PDKCD\"\n",
    "sname = \"d\"\n",
    "temperature = 1.2\n",
    "\n",
    "dis_limit = 25\n",
    "dis_interval = 0.5\n",
    "angle_interval = 2\n",
    "\n",
    "splited_trj1 = read_files(f\"{sname}/s10_ta.trj\")"
   ]
  },
  {
   "cell_type": "code",
   "execution_count": null,
   "metadata": {},
   "outputs": [],
   "source": [
    "data_d_50_DD = []\n",
    "\n",
    "for i in range (int(np.floor(len(splited_trj1)/10))+1):\n",
    "    data_d_50_DD.append(get_map(splited_trj1,i*10,\"DD\"))\n",
    "\n",
    "plot_map_ori(data_d_50_DD,50,\"DD\")"
   ]
  },
  {
   "cell_type": "code",
   "execution_count": null,
   "metadata": {},
   "outputs": [],
   "source": [
    "data_d_50_AA = []\n",
    "\n",
    "for i in range (int(np.floor(len(splited_trj1)/10))+1):\n",
    "    data_d_50_AA.append(get_map(splited_trj1,i*10,\"AA\"))\n",
    "    \n",
    "plot_map_ori(data_d_50_AA,50,\"AA\")"
   ]
  },
  {
   "cell_type": "code",
   "execution_count": null,
   "metadata": {},
   "outputs": [],
   "source": [
    "data_d_50_AD_exclude = []\n",
    "\n",
    "for i in range (int(np.floor(len(splited_trj1)/10))+1):\n",
    "    data_d_50_AD_exclude.append(get_map(splited_trj1,i*10,\"DA_exclude\"))\n",
    "    \n",
    "plot_map_ori(data_d_50_AD_exclude,50,\"DA_exclude\")"
   ]
  },
  {
   "cell_type": "code",
   "execution_count": null,
   "metadata": {},
   "outputs": [],
   "source": [
    "write_data(data_d_50_DD,\"PDKCD\",50,\"DD\")\n",
    "write_data(data_d_50_AA,\"PDKCD\",50,\"AA\")\n",
    "write_data(data_d_50_AD_exclude,\"PDKCD\",50,\"AD_ex\")"
   ]
  },
  {
   "cell_type": "markdown",
   "metadata": {},
   "source": [
    "## 100%"
   ]
  },
  {
   "cell_type": "code",
   "execution_count": null,
   "metadata": {},
   "outputs": [],
   "source": [
    "name = \"PDKCD\"\n",
    "sname = \"d\"\n",
    "temperature = 1.2\n",
    "\n",
    "dis_limit = 25\n",
    "dis_interval = 0.5\n",
    "angle_interval = 2\n",
    "\n",
    "splited_trj1 = read_files(f\"{sname}/s20_ta.trj\")"
   ]
  },
  {
   "cell_type": "code",
   "execution_count": null,
   "metadata": {},
   "outputs": [],
   "source": [
    "data_d_100_DD = []\n",
    "\n",
    "for i in range (int(np.floor(len(splited_trj1)/10))+1):\n",
    "    data_d_100_DD.append(get_map(splited_trj1,i*10,\"DD\"))\n",
    "    \n",
    "plot_map_ori(data_d_100_DD,100,\"DD\")"
   ]
  },
  {
   "cell_type": "code",
   "execution_count": null,
   "metadata": {},
   "outputs": [],
   "source": [
    "data_d_100_AA = []\n",
    "\n",
    "for i in range (int(np.floor(len(splited_trj1)/10))+1):\n",
    "    data_d_100_AA.append(get_map(splited_trj1,i*10,\"AA\"))\n",
    "    \n",
    "plot_map_ori(data_d_100_AA,100,\"AA\")"
   ]
  },
  {
   "cell_type": "code",
   "execution_count": null,
   "metadata": {},
   "outputs": [],
   "source": [
    "data_d_100_AD_exclude = []\n",
    "\n",
    "for i in range (int(np.floor(len(splited_trj1)/10))+1):\n",
    "    data_d_100_AD_exclude.append(get_map(splited_trj1,i*10,\"DA_exclude\"))\n",
    "    \n",
    "plot_map_ori(data_d_100_AD_exclude,100,\"DA_exclude\")"
   ]
  },
  {
   "cell_type": "code",
   "execution_count": null,
   "metadata": {},
   "outputs": [],
   "source": [
    "write_data(data_d_100_DD,\"PDKCD\",100,\"DD\")\n",
    "write_data(data_d_100_AA,\"PDKCD\",100,\"AA\")\n",
    "write_data(data_d_100_AD_exclude,\"PDKCD\",100,\"AD_ex\")"
   ]
  }
 ],
 "metadata": {
  "kernelspec": {
   "display_name": "Python 3",
   "language": "python",
   "name": "python3"
  },
  "language_info": {
   "codemirror_mode": {
    "name": "ipython",
    "version": 3
   },
   "file_extension": ".py",
   "mimetype": "text/x-python",
   "name": "python",
   "nbconvert_exporter": "python",
   "pygments_lexer": "ipython3",
   "version": "3.7.6"
  }
 },
 "nbformat": 4,
 "nbformat_minor": 4
}
