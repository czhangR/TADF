{
 "cells": [
  {
   "cell_type": "markdown",
   "metadata": {},
   "source": [
    "# Analysis the jump and label"
   ]
  },
  {
   "cell_type": "code",
   "execution_count": null,
   "metadata": {},
   "outputs": [],
   "source": [
    "import numpy as np\n",
    "import copy\n",
    "import matplotlib.pyplot as plt\n",
    "from scipy import optimize\n",
    "\n",
    "import psutil\n",
    "import os\n",
    "import gc"
   ]
  },
  {
   "cell_type": "code",
   "execution_count": null,
   "metadata": {},
   "outputs": [],
   "source": [
    "def read_files(route):\n",
    "    file = open(f\"{route}\",\"r\")\n",
    "    info_r1 = file.readlines()\n",
    "    file.close()\n",
    "    \n",
    "#     print(\"---------------------------------------------------------\")\n",
    "#     info = psutil.virtual_memory()\n",
    "#     print(psutil.Process(os.getpid()).memory_info().rss)\n",
    "#     print(info.total)\n",
    "#     print(info.percent)\n",
    "#     print(psutil.cpu_count())\n",
    "\n",
    "\n",
    "    info_s1 = []\n",
    "    for i in range (len(info_r1)):\n",
    "        info_s1.append(info_r1[i].split())\n",
    "    info_r1 = []\n",
    "        \n",
    "        \n",
    "#     print(\"---------------------------------------------------------\")\n",
    "    info = psutil.virtual_memory()\n",
    "#     print(psutil.Process(os.getpid()).memory_info().rss)\n",
    "#     print(info.total)\n",
    "    print(info.percent)\n",
    "#     print(psutil.cpu_count())\n",
    "    \n",
    "    ##   0% --- to --- 50%\n",
    "    Natom_s1 = int(info_s1[3][0])\n",
    "    index_s1 = []\n",
    "    for i in range (len(info_s1)):\n",
    "        if info_s1[i] == ['ITEM:', 'TIMESTEP']:\n",
    "            index_s1.append(i)\n",
    "\n",
    "    splited_trj1 = []\n",
    "    for j in range (len(index_s1)):\n",
    "        frame = np.zeros((Natom_s1,5))\n",
    "        for i in range (Natom_s1):\n",
    "            frame[i,0] = int(info_s1[index_s1[j]+i+9][0])\n",
    "            frame[i,1] = float(info_s1[index_s1[j]+i+9][1])\n",
    "            frame[i,2] = float(info_s1[index_s1[j]+i+9][2])\n",
    "            frame[i,3] = float(info_s1[index_s1[j]+i+9][3])\n",
    "            frame[i,4] = float(info_s1[index_s1[j]+i+9][4])\n",
    "        splited_trj1.append([frame,info_s1[index_s1[j]+5:index_s1[j]+8]])\n",
    "    \n",
    "    return splited_trj1"
   ]
  },
  {
   "cell_type": "code",
   "execution_count": null,
   "metadata": {},
   "outputs": [],
   "source": [
    "def distance(pos1,pos2,bx,by,bz):\n",
    "    \n",
    "    vec = np.zeros((1,3))\n",
    "    vec[0,0] = pos2[0]-pos1[0]\n",
    "    vec[0,1] = pos2[1]-pos1[1]\n",
    "    vec[0,2] = pos2[2]-pos1[2]\n",
    "    \n",
    "    return np.sqrt(vec[0,0]**2+vec[0,1]**2+vec[0,2]**2)"
   ]
  },
  {
   "cell_type": "code",
   "execution_count": null,
   "metadata": {},
   "outputs": [],
   "source": [
    "def get_average_distance_soft(traj_name,target):\n",
    "    ## which sequence\n",
    "    \n",
    "    traj = copy.deepcopy(traj_name)\n",
    "    boundary_x = float(traj[target][1][0][1])-float(traj[target][1][0][0])\n",
    "    boundary_y = float(traj[target][1][1][1])-float(traj[target][1][1][0])\n",
    "    boundary_z = float(traj[target][1][2][1])-float(traj[target][1][2][0])\n",
    "\n",
    "    ## distribution\n",
    "    O_index = []\n",
    "    for i in range (0,len(traj[target][0])):\n",
    "        if traj[target][0][i][1] == 15.999:\n",
    "            O_index.append(i)\n",
    "\n",
    "    O_O_distance = []\n",
    "    for chain_ in range (chain_numbers):\n",
    "        for position_ in range (1,d_of_p):\n",
    "            dis = distance(traj[target][0][O_index[chain_*3*d_of_p+position_*3]][2:],traj[target][0][O_index[chain_*3*d_of_p+position_*3-1]][2:],boundary_x,boundary_y,boundary_z)\n",
    "            O_O_distance.append(dis)\n",
    "    \n",
    "    return O_O_distance"
   ]
  },
  {
   "cell_type": "code",
   "execution_count": null,
   "metadata": {},
   "outputs": [],
   "source": [
    "def get_average_distance_rigid(traj_name,target):\n",
    "    ## which sequence\n",
    "    \n",
    "    traj = copy.deepcopy(traj_name)\n",
    "    boundary_x = float(traj[target][1][0][1])-float(traj[target][1][0][0])\n",
    "    boundary_y = float(traj[target][1][1][1])-float(traj[target][1][1][0])\n",
    "    boundary_z = float(traj[target][1][2][1])-float(traj[target][1][2][0])\n",
    "\n",
    "    ## distribution\n",
    "    O_index = []\n",
    "    for i in range (0,len(traj[target][0])):\n",
    "        if traj[target][0][i][1] == 15.999:\n",
    "            O_index.append(i)\n",
    "\n",
    "    O_O_distance = []\n",
    "    for chain_ in range (chain_numbers):\n",
    "        for position_ in range (0,d_of_p):\n",
    "            dis = distance(traj[target][0][O_index[chain_*3*d_of_p+position_*3]][2:],traj[target][0][O_index[chain_*3*d_of_p+position_*3+2]][2:],boundary_x,boundary_y,boundary_z)\n",
    "            O_O_distance.append(dis)\n",
    "\n",
    "    return O_O_distance"
   ]
  },
  {
   "cell_type": "code",
   "execution_count": null,
   "metadata": {},
   "outputs": [],
   "source": [
    "def extract(route,gather_soft,gather_rigid):\n",
    "    \n",
    "    splited_trj1 = read_files(f\"stretch{temperature}/{route}\")\n",
    "    for i in range (len(splited_trj1)-1):\n",
    "        gather_soft.append(get_average_distance_soft(splited_trj1,i))\n",
    "        gather_rigid.append(get_average_distance_rigid(splited_trj1,i))\n",
    "\n",
    "    return gather_soft,gather_rigid"
   ]
  },
  {
   "cell_type": "markdown",
   "metadata": {},
   "source": [
    "# For D"
   ]
  },
  {
   "cell_type": "code",
   "execution_count": null,
   "metadata": {},
   "outputs": [],
   "source": [
    "name=\"pdkcd\"\n",
    "temperature = \"1.2\"\n",
    "sname = \"d\"\n",
    "\n",
    "chain_numbers = 48\n",
    "d_of_p = 32 # degree of polymerization"
   ]
  },
  {
   "cell_type": "code",
   "execution_count": null,
   "metadata": {},
   "outputs": [],
   "source": [
    "gather_soft_pre = []\n",
    "gather_rigid_pre = []\n",
    "\n",
    "gather_soft_pre,gather_rigid_pre = extract(f\"{sname}/s0_ta-1.trj\",gather_soft_pre,gather_rigid_pre)\n",
    "gather_soft_pre,gather_rigid_pre = extract(f\"{sname}/s0_ta-2.trj\",gather_soft_pre,gather_rigid_pre)"
   ]
  },
  {
   "cell_type": "code",
   "execution_count": null,
   "metadata": {},
   "outputs": [],
   "source": [
    "averaged_L0_soft = np.zeros((len(gather_soft_pre[0]),2))\n",
    "averaged_L0_rigid = np.zeros((len(gather_rigid_pre[0]),2))\n",
    "\n",
    "for id_ in range (len(gather_soft_pre[0])):\n",
    "    averaged_L0_soft[id_,0] = id_\n",
    "    \n",
    "    for t in range (len(gather_soft_pre)):\n",
    "        averaged_L0_soft[id_,1] += gather_soft_pre[t][id_]\n",
    "    averaged_L0_soft[id_,1] = averaged_L0_soft[id_,1]/len(gather_soft_pre)\n",
    "\n",
    "for id_ in range (len(gather_rigid_pre[0])):\n",
    "    averaged_L0_rigid[id_,0] = id_\n",
    "    \n",
    "    for t in range (len(gather_rigid_pre)):\n",
    "        averaged_L0_rigid[id_,1] += gather_rigid_pre[t][id_]\n",
    "    averaged_L0_rigid[id_,1] = averaged_L0_rigid[id_,1]/len(gather_rigid_pre)\n"
   ]
  },
  {
   "cell_type": "code",
   "execution_count": null,
   "metadata": {},
   "outputs": [],
   "source": [
    " averaged_L0_soft,averaged_L0_rigid"
   ]
  },
  {
   "cell_type": "code",
   "execution_count": null,
   "metadata": {},
   "outputs": [],
   "source": [
    "gather_soft = []\n",
    "gather_rigid = []\n",
    "\n",
    "gather_soft,gather_rigid = extract(f\"{sname}/s1.trj\",gather_soft,gather_rigid)\n",
    "gather_soft,gather_rigid = extract(f\"{sname}/s2.trj\",gather_soft,gather_rigid)\n",
    "gather_soft,gather_rigid = extract(f\"{sname}/s3.trj\",gather_soft,gather_rigid)\n",
    "gather_soft,gather_rigid = extract(f\"{sname}/s4.trj\",gather_soft,gather_rigid)\n",
    "gather_soft,gather_rigid = extract(f\"{sname}/s5.trj\",gather_soft,gather_rigid)\n",
    "gather_soft,gather_rigid = extract(f\"{sname}/s6.trj\",gather_soft,gather_rigid)\n",
    "gather_soft,gather_rigid = extract(f\"{sname}/s7.trj\",gather_soft,gather_rigid)\n",
    "gather_soft,gather_rigid = extract(f\"{sname}/s8.trj\",gather_soft,gather_rigid)\n",
    "gather_soft,gather_rigid = extract(f\"{sname}/s9.trj\",gather_soft,gather_rigid)\n",
    "gather_soft,gather_rigid = extract(f\"{sname}/s10.trj\",gather_soft,gather_rigid)\n",
    "gather_soft,gather_rigid = extract(f\"{sname}/s11.trj\",gather_soft,gather_rigid)\n",
    "gather_soft,gather_rigid = extract(f\"{sname}/s12.trj\",gather_soft,gather_rigid)\n",
    "gather_soft,gather_rigid = extract(f\"{sname}/s13.trj\",gather_soft,gather_rigid)\n",
    "gather_soft,gather_rigid = extract(f\"{sname}/s14.trj\",gather_soft,gather_rigid)\n",
    "gather_soft,gather_rigid = extract(f\"{sname}/s15.trj\",gather_soft,gather_rigid)\n",
    "gather_soft,gather_rigid = extract(f\"{sname}/s16.trj\",gather_soft,gather_rigid)\n",
    "gather_soft,gather_rigid = extract(f\"{sname}/s17.trj\",gather_soft,gather_rigid)\n",
    "gather_soft,gather_rigid = extract(f\"{sname}/s18.trj\",gather_soft,gather_rigid)\n",
    "gather_soft,gather_rigid = extract(f\"{sname}/s19.trj\",gather_soft,gather_rigid)\n",
    "gather_soft,gather_rigid = extract(f\"{sname}/s20.trj\",gather_soft,gather_rigid)"
   ]
  },
  {
   "cell_type": "code",
   "execution_count": null,
   "metadata": {},
   "outputs": [],
   "source": [
    "length_revolution_d_soft = np.zeros((len(gather_soft),2))\n",
    "length_revolution_d_rigid = np.zeros((len(gather_rigid),2))\n",
    "\n",
    "for t in range (len(gather_soft)):\n",
    "    length_revolution_d_soft[t,0] = 0.05*t\n",
    "    length_revolution_d_rigid[t,0] = 0.05*t\n",
    "    \n",
    "    for id_ in range (len(gather_soft[0])):\n",
    "        length_revolution_d_soft[t,1] += gather_soft[t][id_]/averaged_L0_soft[id_,1]\n",
    "    length_revolution_d_soft[t,1] = length_revolution_d_soft[t,1]/len(gather_soft[0])\n",
    "    \n",
    "    for id_ in range (len(gather_rigid[0])):\n",
    "        length_revolution_d_rigid[t,1] += gather_rigid[t][id_]/averaged_L0_rigid[id_,1]\n",
    "    length_revolution_d_rigid[t,1] = length_revolution_d_rigid[t,1]/len(gather_rigid[0])"
   ]
  },
  {
   "cell_type": "code",
   "execution_count": null,
   "metadata": {},
   "outputs": [],
   "source": [
    "fig = plt.figure(figsize=(8,6))\n",
    "ax = fig.add_subplot(111)\n",
    "\n",
    "ax.scatter(length_revolution_d_soft[:,0],length_revolution_d_soft[:,1]/length_revolution_d_soft[2,1],label=\"soft\")\n",
    "ax.scatter(length_revolution_d_rigid[:,0],length_revolution_d_rigid[:,1]/length_revolution_d_rigid[0,1],label=\"rigid\")\n",
    "# ax.set_xlabel(\"Strain (%)\",size = 20)\n",
    "ax.set_xlabel(\"Time (ns)\",size = 20)\n",
    "ax.set_ylabel(f\"$ <L/ L_{0}>$\",size = 20)\n",
    "ax.set_title(f\"{name}\",size = 20)\n",
    "ax.set_ylim(0.8,1.2)\n",
    "ax.set_ylim(0.99,1.11)\n",
    "\n",
    "plt.legend(loc=\"upper right\",fontsize=20)\n",
    "plt.show()"
   ]
  },
  {
   "cell_type": "code",
   "execution_count": null,
   "metadata": {},
   "outputs": [],
   "source": [
    "file = open(f\"{name}_{temperature}_data.txt\",\"w\")\n",
    "\n",
    "file.write(\"Strain\"+\"     \")\n",
    "file.write(\"<L/L0>(soft)\"+\"     \")\n",
    "file.write(\"<L/L0>(rigid)\"+\"     \")\n",
    "\n",
    "file.write(\"\\n\")\n",
    "\n",
    "for i in range (len(length_revolution_d_soft)):\n",
    "    file.write(\"%.2f\"%(length_revolution_d_soft[i,0])+\"    \")\n",
    "    file.write(\"%.5f\"%(length_revolution_d_soft[i,1])+\" \")\n",
    "    file.write(\"%.5f\"%(length_revolution_d_rigid[i,1])+\" \")\n",
    "    file.write(\"\\n\")\n",
    "    \n",
    "file.close()"
   ]
  },
  {
   "cell_type": "markdown",
   "metadata": {},
   "source": [
    "## for M"
   ]
  },
  {
   "cell_type": "code",
   "execution_count": null,
   "metadata": {},
   "outputs": [],
   "source": [
    "name=\"pdkcm\"\n",
    "temperature = \"1.2\"\n",
    "sname = \"m\"\n",
    "\n",
    "chain_numbers =44\n",
    "d_of_p = 43 # degree of polymerization"
   ]
  },
  {
   "cell_type": "code",
   "execution_count": null,
   "metadata": {},
   "outputs": [],
   "source": [
    "gather_soft_pre = []\n",
    "gather_rigid_pre = []\n",
    "\n",
    "gather_soft_pre,gather_rigid_pre = extract(f\"{sname}/s0-ta.trj\",gather_soft_pre,gather_rigid_pre)"
   ]
  },
  {
   "cell_type": "code",
   "execution_count": null,
   "metadata": {},
   "outputs": [],
   "source": [
    "averaged_L0_soft = np.zeros((len(gather_soft_pre[0]),2))\n",
    "averaged_L0_rigid = np.zeros((len(gather_rigid_pre[0]),2))\n",
    "\n",
    "for id_ in range (len(gather_soft_pre[0])):\n",
    "    averaged_L0_soft[id_,0] = id_\n",
    "    \n",
    "    for t in range (len(gather_soft_pre)):\n",
    "        averaged_L0_soft[id_,1] += gather_soft_pre[t][id_]\n",
    "    averaged_L0_soft[id_,1] = averaged_L0_soft[id_,1]/len(gather_soft_pre)\n",
    "\n",
    "for id_ in range (len(gather_rigid_pre[0])):\n",
    "    averaged_L0_rigid[id_,0] = id_\n",
    "    \n",
    "    for t in range (len(gather_rigid_pre)):\n",
    "        averaged_L0_rigid[id_,1] += gather_rigid_pre[t][id_]\n",
    "    averaged_L0_rigid[id_,1] = averaged_L0_rigid[id_,1]/len(gather_rigid_pre)\n"
   ]
  },
  {
   "cell_type": "code",
   "execution_count": null,
   "metadata": {},
   "outputs": [],
   "source": [
    "gather_soft = []\n",
    "gather_rigid = []\n",
    "\n",
    "gather_soft,gather_rigid = extract(f\"{sname}/s1.trj\",gather_soft,gather_rigid)\n",
    "gather_soft,gather_rigid = extract(f\"{sname}/s2.trj\",gather_soft,gather_rigid)\n",
    "gather_soft,gather_rigid = extract(f\"{sname}/s3.trj\",gather_soft,gather_rigid)\n",
    "gather_soft,gather_rigid = extract(f\"{sname}/s4.trj\",gather_soft,gather_rigid)\n",
    "gather_soft,gather_rigid = extract(f\"{sname}/s5.trj\",gather_soft,gather_rigid)\n",
    "gather_soft,gather_rigid = extract(f\"{sname}/s6.trj\",gather_soft,gather_rigid)\n",
    "gather_soft,gather_rigid = extract(f\"{sname}/s7.trj\",gather_soft,gather_rigid)\n",
    "gather_soft,gather_rigid = extract(f\"{sname}/s8.trj\",gather_soft,gather_rigid)\n",
    "gather_soft,gather_rigid = extract(f\"{sname}/s9.trj\",gather_soft,gather_rigid)\n",
    "gather_soft,gather_rigid = extract(f\"{sname}/s10.trj\",gather_soft,gather_rigid)\n",
    "gather_soft,gather_rigid = extract(f\"{sname}/s11.trj\",gather_soft,gather_rigid)\n",
    "gather_soft,gather_rigid = extract(f\"{sname}/s12.trj\",gather_soft,gather_rigid)\n",
    "gather_soft,gather_rigid = extract(f\"{sname}/s13.trj\",gather_soft,gather_rigid)\n",
    "gather_soft,gather_rigid = extract(f\"{sname}/s14.trj\",gather_soft,gather_rigid)\n",
    "gather_soft,gather_rigid = extract(f\"{sname}/s15.trj\",gather_soft,gather_rigid)\n",
    "gather_soft,gather_rigid = extract(f\"{sname}/s16.trj\",gather_soft,gather_rigid)\n",
    "gather_soft,gather_rigid = extract(f\"{sname}/s17.trj\",gather_soft,gather_rigid)\n",
    "gather_soft,gather_rigid = extract(f\"{sname}/s18.trj\",gather_soft,gather_rigid)\n",
    "gather_soft,gather_rigid = extract(f\"{sname}/s19.trj\",gather_soft,gather_rigid)\n",
    "gather_soft,gather_rigid = extract(f\"{sname}/s20.trj\",gather_soft,gather_rigid)"
   ]
  },
  {
   "cell_type": "code",
   "execution_count": null,
   "metadata": {},
   "outputs": [],
   "source": [
    "length_revolution_m_soft = np.zeros((len(gather_soft),2))\n",
    "length_revolution_m_rigid = np.zeros((len(gather_rigid),2))\n",
    "\n",
    "for t in range (len(gather_soft)):\n",
    "    length_revolution_m_soft[t,0] = 0.05*t\n",
    "    length_revolution_m_rigid[t,0] = 0.05*t\n",
    "    \n",
    "    for id_ in range (len(gather_soft[0])):\n",
    "        length_revolution_m_soft[t,1] += gather_soft[t][id_]/averaged_L0_soft[id_,1]\n",
    "    length_revolution_m_soft[t,1] = length_revolution_m_soft[t,1]/len(gather_soft[0])\n",
    "    \n",
    "    for id_ in range (len(gather_rigid[0])):\n",
    "        length_revolution_m_rigid[t,1] += gather_rigid[t][id_]/averaged_L0_rigid[id_,1]\n",
    "    length_revolution_m_rigid[t,1] = length_revolution_m_rigid[t,1]/len(gather_rigid[0])"
   ]
  },
  {
   "cell_type": "code",
   "execution_count": null,
   "metadata": {},
   "outputs": [],
   "source": [
    "fig = plt.figure(figsize=(8,6))\n",
    "ax = fig.add_subplot(111)\n",
    "\n",
    "ax.scatter(length_revolution_m_soft[:,0],length_revolution_m_soft[:,1]/length_revolution_m_soft[0,1],label=\"soft\")\n",
    "ax.scatter(length_revolution_m_rigid[:,0],length_revolution_m_rigid[:,1]/length_revolution_m_rigid[0,1],label=\"rigid\")\n",
    "ax.set_xlabel(\"Time (ns)\",size = 20)\n",
    "ax.set_ylabel(f\"$ <L/ L_{0}>$\",size = 20)\n",
    "ax.set_title(f\"{name}\",size = 20)\n",
    "ax.set_ylim(0.8,1.2)\n",
    "ax.set_ylim(0.99,1.11)\n",
    "\n",
    "plt.legend(loc=\"upper right\",fontsize=20)\n",
    "plt.savefig(f\"{name}_O_O_ave.pdf\")\n",
    "plt.show()"
   ]
  },
  {
   "cell_type": "code",
   "execution_count": null,
   "metadata": {},
   "outputs": [],
   "source": [
    "file = open(f\"{name}_{temperature}_data.txt\",\"w\")\n",
    "\n",
    "file.write(\"Strain\"+\"     \")\n",
    "file.write(\"<L/L0>(soft)\"+\"     \")\n",
    "file.write(\"<L/L0>(rigid)\"+\"     \")\n",
    "\n",
    "file.write(\"\\n\")\n",
    "\n",
    "for i in range (len(length_revolution_m_soft)):\n",
    "    file.write(\"%.2f\"%(length_revolution_m_soft[i,0])+\"    \")\n",
    "    file.write(\"%.5f\"%(length_revolution_m_soft[i,1])+\" \")\n",
    "    file.write(\"%.5f\"%(length_revolution_m_rigid[i,1])+\" \")\n",
    "    file.write(\"\\n\")\n",
    "    \n",
    "file.close()"
   ]
  },
  {
   "cell_type": "markdown",
   "metadata": {},
   "source": [
    "## for P"
   ]
  },
  {
   "cell_type": "code",
   "execution_count": null,
   "metadata": {},
   "outputs": [],
   "source": [
    "name=\"pdkcp\"\n",
    "temperature = \"1.2\"\n",
    "sname = \"p\"\n",
    "\n",
    "chain_numbers = 38\n",
    "d_of_p = 48 # degree of polymerization"
   ]
  },
  {
   "cell_type": "code",
   "execution_count": null,
   "metadata": {},
   "outputs": [],
   "source": [
    "gather_soft_pre = []\n",
    "gather_rigid_pre = []\n",
    "\n",
    "gather_soft_pre,gather_rigid_pre = extract(f\"{sname}/s0_ta.trj\",gather_soft_pre,gather_rigid_pre)"
   ]
  },
  {
   "cell_type": "code",
   "execution_count": null,
   "metadata": {},
   "outputs": [],
   "source": [
    "averaged_L0_soft = np.zeros((len(gather_soft_pre[0]),2))\n",
    "averaged_L0_rigid = np.zeros((len(gather_rigid_pre[0]),2))\n",
    "\n",
    "for id_ in range (len(gather_soft_pre[0])):\n",
    "    averaged_L0_soft[id_,0] = id_\n",
    "    \n",
    "    for t in range (len(gather_soft_pre)):\n",
    "        averaged_L0_soft[id_,1] += gather_soft_pre[t][id_]\n",
    "    averaged_L0_soft[id_,1] = averaged_L0_soft[id_,1]/len(gather_soft_pre)\n",
    "\n",
    "for id_ in range (len(gather_rigid_pre[0])):\n",
    "    averaged_L0_rigid[id_,0] = id_\n",
    "    \n",
    "    for t in range (len(gather_rigid_pre)):\n",
    "        averaged_L0_rigid[id_,1] += gather_rigid_pre[t][id_]\n",
    "    averaged_L0_rigid[id_,1] = averaged_L0_rigid[id_,1]/len(gather_rigid_pre)\n"
   ]
  },
  {
   "cell_type": "code",
   "execution_count": null,
   "metadata": {},
   "outputs": [],
   "source": [
    "gather_soft = []\n",
    "gather_rigid = []\n",
    "\n",
    "gather_soft,gather_rigid = extract(f\"{sname}/s1.trj\",gather_soft,gather_rigid)\n",
    "gather_soft,gather_rigid = extract(f\"{sname}/s2.trj\",gather_soft,gather_rigid)\n",
    "gather_soft,gather_rigid = extract(f\"{sname}/s3.trj\",gather_soft,gather_rigid)\n",
    "gather_soft,gather_rigid = extract(f\"{sname}/s4.trj\",gather_soft,gather_rigid)\n",
    "gather_soft,gather_rigid = extract(f\"{sname}/s5.trj\",gather_soft,gather_rigid)\n",
    "gather_soft,gather_rigid = extract(f\"{sname}/s6.trj\",gather_soft,gather_rigid)\n",
    "gather_soft,gather_rigid = extract(f\"{sname}/s7.trj\",gather_soft,gather_rigid)\n",
    "gather_soft,gather_rigid = extract(f\"{sname}/s8.trj\",gather_soft,gather_rigid)\n",
    "gather_soft,gather_rigid = extract(f\"{sname}/s9.trj\",gather_soft,gather_rigid)\n",
    "gather_soft,gather_rigid = extract(f\"{sname}/s10.trj\",gather_soft,gather_rigid)\n",
    "gather_soft,gather_rigid = extract(f\"{sname}/s11.trj\",gather_soft,gather_rigid)\n",
    "gather_soft,gather_rigid = extract(f\"{sname}/s12.trj\",gather_soft,gather_rigid)\n",
    "gather_soft,gather_rigid = extract(f\"{sname}/s13.trj\",gather_soft,gather_rigid)\n",
    "gather_soft,gather_rigid = extract(f\"{sname}/s14.trj\",gather_soft,gather_rigid)\n",
    "gather_soft,gather_rigid = extract(f\"{sname}/s15.trj\",gather_soft,gather_rigid)\n",
    "gather_soft,gather_rigid = extract(f\"{sname}/s16.trj\",gather_soft,gather_rigid)\n",
    "gather_soft,gather_rigid = extract(f\"{sname}/s17.trj\",gather_soft,gather_rigid)\n",
    "gather_soft,gather_rigid = extract(f\"{sname}/s18.trj\",gather_soft,gather_rigid)\n",
    "gather_soft,gather_rigid = extract(f\"{sname}/s19.trj\",gather_soft,gather_rigid)\n",
    "gather_soft,gather_rigid = extract(f\"{sname}/s20.trj\",gather_soft,gather_rigid)"
   ]
  },
  {
   "cell_type": "code",
   "execution_count": null,
   "metadata": {},
   "outputs": [],
   "source": [
    "length_revolution_p_soft = np.zeros((len(gather_soft),2))\n",
    "length_revolution_p_rigid = np.zeros((len(gather_rigid),2))\n",
    "\n",
    "for t in range (len(gather_soft)):\n",
    "    length_revolution_p_soft[t,0] = 0.05*t\n",
    "    length_revolution_p_rigid[t,0] = 0.05*t\n",
    "    \n",
    "    for id_ in range (len(gather_soft[0])):\n",
    "        length_revolution_p_soft[t,1] += gather_soft[t][id_]/averaged_L0_soft[id_,1]\n",
    "    length_revolution_p_soft[t,1] = length_revolution_p_soft[t,1]/len(gather_soft[0])\n",
    "    \n",
    "    for id_ in range (len(gather_rigid[0])):\n",
    "        length_revolution_p_rigid[t,1] += gather_rigid[t][id_]/averaged_L0_rigid[id_,1]\n",
    "    length_revolution_p_rigid[t,1] = length_revolution_p_rigid[t,1]/len(gather_rigid[0])"
   ]
  },
  {
   "cell_type": "code",
   "execution_count": null,
   "metadata": {},
   "outputs": [],
   "source": [
    "fig = plt.figure(figsize=(8,6))\n",
    "ax = fig.add_subplot(111)\n",
    "\n",
    "ax.scatter(length_revolution_p_soft[:,0],length_revolution_p_soft[:,1]/length_revolution_p_soft[0,1],label=\"soft\")\n",
    "ax.scatter(length_revolution_p_rigid[:,0],length_revolution_p_rigid[:,1]/length_revolution_p_rigid[0,1],label=\"rigid\")\n",
    "ax.set_xlabel(\"Time (ns)\",size = 20)\n",
    "ax.set_ylabel(f\"$ <L/ L_{0}>$\",size = 20)\n",
    "ax.set_title(f\"{name}\",size = 20)\n",
    "ax.set_ylim(0.8,1.2)\n",
    "ax.set_ylim(0.99,1.11)\n",
    "\n",
    "plt.legend(loc=\"upper right\",fontsize=20)\n",
    "plt.savefig(f\"{name}_O_O_ave.pdf\")\n",
    "plt.show()"
   ]
  },
  {
   "cell_type": "code",
   "execution_count": null,
   "metadata": {},
   "outputs": [],
   "source": [
    "file = open(f\"{name}_{temperature}_data.txt\",\"w\")\n",
    "\n",
    "file.write(\"Strain\"+\"     \")\n",
    "file.write(\"<L/L0>(soft)\"+\"     \")\n",
    "file.write(\"<L/L0>(rigid)\"+\"     \")\n",
    "\n",
    "file.write(\"\\n\")\n",
    "\n",
    "for i in range (len(length_revolution_p_soft)):\n",
    "    file.write(\"%.2f\"%(length_revolution_p_soft[i,0])+\"    \")\n",
    "    file.write(\"%.5f\"%(length_revolution_p_soft[i,1])+\" \")\n",
    "    file.write(\"%.5f\"%(length_revolution_p_rigid[i,1])+\" \")\n",
    "    file.write(\"\\n\")\n",
    "    \n",
    "file.close()"
   ]
  },
  {
   "cell_type": "markdown",
   "metadata": {},
   "source": [
    "## for H"
   ]
  },
  {
   "cell_type": "code",
   "execution_count": null,
   "metadata": {},
   "outputs": [],
   "source": [
    "name=\"pdkch\"\n",
    "temperature = \"1.2\"\n",
    "sname = \"h\"\n",
    "\n",
    "chain_numbers = 46\n",
    "d_of_p =  36 # degree of polymerization"
   ]
  },
  {
   "cell_type": "code",
   "execution_count": null,
   "metadata": {},
   "outputs": [],
   "source": [
    "gather_soft_pre = []\n",
    "gather_rigid_pre = []\n",
    "\n",
    "gather_soft_pre,gather_rigid_pre = extract(f\"{sname}/s0_ta.trj\",gather_soft_pre,gather_rigid_pre)\n",
    "gather_soft_pre,gather_rigid_pre = extract(f\"{sname}/s0_ta-2.trj\",gather_soft_pre,gather_rigid_pre)"
   ]
  },
  {
   "cell_type": "code",
   "execution_count": null,
   "metadata": {},
   "outputs": [],
   "source": [
    "averaged_L0_soft = np.zeros((len(gather_soft_pre[0]),2))\n",
    "averaged_L0_rigid = np.zeros((len(gather_rigid_pre[0]),2))\n",
    "\n",
    "for id_ in range (len(gather_soft_pre[0])):\n",
    "    averaged_L0_soft[id_,0] = id_\n",
    "    \n",
    "    for t in range (len(gather_soft_pre)):\n",
    "        averaged_L0_soft[id_,1] += gather_soft_pre[t][id_]\n",
    "    averaged_L0_soft[id_,1] = averaged_L0_soft[id_,1]/len(gather_soft_pre)\n",
    "\n",
    "for id_ in range (len(gather_rigid_pre[0])):\n",
    "    averaged_L0_rigid[id_,0] = id_\n",
    "    \n",
    "    for t in range (len(gather_rigid_pre)):\n",
    "        averaged_L0_rigid[id_,1] += gather_rigid_pre[t][id_]\n",
    "    averaged_L0_rigid[id_,1] = averaged_L0_rigid[id_,1]/len(gather_rigid_pre)\n"
   ]
  },
  {
   "cell_type": "code",
   "execution_count": null,
   "metadata": {},
   "outputs": [],
   "source": [
    "gather_soft = []\n",
    "gather_rigid = []\n",
    "\n",
    "gather_soft,gather_rigid = extract(f\"{sname}/s1.trj\",gather_soft,gather_rigid)\n",
    "gather_soft,gather_rigid = extract(f\"{sname}/s2.trj\",gather_soft,gather_rigid)\n",
    "gather_soft,gather_rigid = extract(f\"{sname}/s3.trj\",gather_soft,gather_rigid)\n",
    "gather_soft,gather_rigid = extract(f\"{sname}/s4.trj\",gather_soft,gather_rigid)\n",
    "gather_soft,gather_rigid = extract(f\"{sname}/s5.trj\",gather_soft,gather_rigid)\n",
    "gather_soft,gather_rigid = extract(f\"{sname}/s6.trj\",gather_soft,gather_rigid)\n",
    "gather_soft,gather_rigid = extract(f\"{sname}/s7.trj\",gather_soft,gather_rigid)\n",
    "gather_soft,gather_rigid = extract(f\"{sname}/s8.trj\",gather_soft,gather_rigid)\n",
    "gather_soft,gather_rigid = extract(f\"{sname}/s9.trj\",gather_soft,gather_rigid)\n",
    "gather_soft,gather_rigid = extract(f\"{sname}/s10.trj\",gather_soft,gather_rigid)\n",
    "gather_soft,gather_rigid = extract(f\"{sname}/s11.trj\",gather_soft,gather_rigid)\n",
    "gather_soft,gather_rigid = extract(f\"{sname}/s12.trj\",gather_soft,gather_rigid)\n",
    "gather_soft,gather_rigid = extract(f\"{sname}/s13.trj\",gather_soft,gather_rigid)\n",
    "gather_soft,gather_rigid = extract(f\"{sname}/s14.trj\",gather_soft,gather_rigid)\n",
    "gather_soft,gather_rigid = extract(f\"{sname}/s15.trj\",gather_soft,gather_rigid)\n",
    "gather_soft,gather_rigid = extract(f\"{sname}/s16.trj\",gather_soft,gather_rigid)\n",
    "gather_soft,gather_rigid = extract(f\"{sname}/s17.trj\",gather_soft,gather_rigid)\n",
    "gather_soft,gather_rigid = extract(f\"{sname}/s18.trj\",gather_soft,gather_rigid)\n",
    "gather_soft,gather_rigid = extract(f\"{sname}/s19.trj\",gather_soft,gather_rigid)\n",
    "gather_soft,gather_rigid = extract(f\"{sname}/s20.trj\",gather_soft,gather_rigid)"
   ]
  },
  {
   "cell_type": "code",
   "execution_count": null,
   "metadata": {},
   "outputs": [],
   "source": [
    "length_revolution_h_soft = np.zeros((len(gather_soft),2))\n",
    "length_revolution_h_rigid = np.zeros((len(gather_rigid),2))\n",
    "\n",
    "for t in range (len(gather_soft)):\n",
    "    length_revolution_h_soft[t,0] = 0.05*t\n",
    "    length_revolution_h_rigid[t,0] = 0.05*t\n",
    "    \n",
    "    for id_ in range (len(gather_soft[0])):\n",
    "        length_revolution_h_soft[t,1] += gather_soft[t][id_]/averaged_L0_soft[id_,1]\n",
    "    length_revolution_h_soft[t,1] = length_revolution_h_soft[t,1]/len(gather_soft[0])\n",
    "    \n",
    "    for id_ in range (len(gather_rigid[0])):\n",
    "        length_revolution_h_rigid[t,1] += gather_rigid[t][id_]/averaged_L0_rigid[id_,1]\n",
    "    length_revolution_h_rigid[t,1] = length_revolution_h_rigid[t,1]/len(gather_rigid[0])"
   ]
  },
  {
   "cell_type": "code",
   "execution_count": null,
   "metadata": {},
   "outputs": [],
   "source": [
    "fig = plt.figure(figsize=(8,6))\n",
    "ax = fig.add_subplot(111)\n",
    "\n",
    "ax.scatter(length_revolution_h_soft[:,0],length_revolution_h_soft[:,1]/length_revolution_h_soft[0,1],label=\"soft\")\n",
    "ax.scatter(length_revolution_h_rigid[:,0],length_revolution_h_rigid[:,1]/length_revolution_h_rigid[0,1],label=\"rigid\")\n",
    "ax.set_xlabel(\"Time (ns)\",size = 20)\n",
    "ax.set_ylabel(f\"$ <L/ L_{0}>$\",size = 20)\n",
    "ax.set_title(f\"{name}\",size = 20)\n",
    "ax.set_ylim(0.8,1.2)\n",
    "ax.set_ylim(0.99,1.11)\n",
    "\n",
    "plt.legend(loc=\"upper right\",fontsize=20)\n",
    "plt.savefig(f\"{name}_O_O_ave.pdf\")\n",
    "plt.show()"
   ]
  },
  {
   "cell_type": "code",
   "execution_count": null,
   "metadata": {},
   "outputs": [],
   "source": [
    "file = open(f\"{name}_{temperature}_data.txt\",\"w\")\n",
    "\n",
    "file.write(\"Strain\"+\"     \")\n",
    "file.write(\"<L/L0>(soft)\"+\"     \")\n",
    "file.write(\"<L/L0>(rigid)\"+\"     \")\n",
    "\n",
    "file.write(\"\\n\")\n",
    "\n",
    "for i in range (len(length_revolution_h_soft)):\n",
    "    file.write(\"%.2f\"%(length_revolution_h_soft[i,0])+\"    \")\n",
    "    file.write(\"%.5f\"%(length_revolution_h_soft[i,1])+\" \")\n",
    "    file.write(\"%.5f\"%(length_revolution_h_rigid[i,1])+\" \")\n",
    "    file.write(\"\\n\")\n",
    "    \n",
    "file.close()"
   ]
  },
  {
   "cell_type": "markdown",
   "metadata": {},
   "source": [
    "## Comparison"
   ]
  },
  {
   "cell_type": "code",
   "execution_count": null,
   "metadata": {},
   "outputs": [],
   "source": [
    "fig = plt.figure(figsize=(8,6))\n",
    "ax = fig.add_subplot(111)\n",
    "\n",
    "ax.scatter(length_revolution_m[:,0],length_revolution_m[:,1],label=\"$S_{M}$\",color=\"none\", edgecolor=\"black\",s=20)\n",
    "ax.scatter(length_revolution_p_soft[:,0],length_revolution_p_soft[:,1]/length_revolution_p_soft[0,1],label=\"$S_{P}$\",color=\"none\", edgecolor=\"grey\",s=20)\n",
    "ax.scatter(length_revolution_h_soft[:,0],length_revolution_h_soft[:,1]/length_revolution_h_soft[0,1],label=\"$S_{H}$\",color=\"none\", edgecolor=\"red\",s=20)\n",
    "ax.scatter(length_revolution_d[:,0],length_revolution_d[:,1],label=\"$S_{D}$\",color=\"none\", edgecolor=\"blue\",s=20)\n",
    "ax.set_xlabel(\"Time (ns)\",size = 20)\n",
    "ax.set_ylabel(f\"$ <L/ L_{0}>$\",size = 20)\n",
    "ax.set_ylim(0.8,1.2)\n",
    "ax.set_ylim(0.99,1.11)\n",
    "\n",
    "plt.legend(loc=\"upper left\",fontsize=14)\n",
    "plt.show()"
   ]
  },
  {
   "cell_type": "code",
   "execution_count": null,
   "metadata": {},
   "outputs": [],
   "source": []
  }
 ],
 "metadata": {
  "kernelspec": {
   "display_name": "Python 3",
   "language": "python",
   "name": "python3"
  },
  "language_info": {
   "codemirror_mode": {
    "name": "ipython",
    "version": 3
   },
   "file_extension": ".py",
   "mimetype": "text/x-python",
   "name": "python",
   "nbconvert_exporter": "python",
   "pygments_lexer": "ipython3",
   "version": "3.7.6"
  }
 },
 "nbformat": 4,
 "nbformat_minor": 4
}
