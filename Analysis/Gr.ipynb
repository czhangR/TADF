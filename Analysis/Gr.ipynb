{
 "cells": [
  {
   "cell_type": "markdown",
   "metadata": {},
   "source": [
    "# Get rdf of all the polymers"
   ]
  },
  {
   "cell_type": "code",
   "execution_count": null,
   "metadata": {},
   "outputs": [],
   "source": [
    "import numpy as np\n",
    "import copy\n",
    "import matplotlib.pyplot as plt\n",
    "from scipy import optimize\n",
    "from matplotlib.colors import ListedColormap\n",
    "\n",
    "import psutil\n",
    "import os\n",
    "import gc\n",
    "\n",
    "np.random.seed([170786])"
   ]
  },
  {
   "cell_type": "code",
   "execution_count": null,
   "metadata": {},
   "outputs": [],
   "source": [
    "def read_traj(route,method_):\n",
    "    file = open(f\"stretch{temperature}/{route}\",\"r\")\n",
    "    info_r1 = file.readlines()\n",
    "    file.close()\n",
    "    \n",
    "    \n",
    "    if method_==0:\n",
    "        info_s1 = []\n",
    "        for i in range (len(info_r1)):\n",
    "            info_s1.append(info_r1[i].split())\n",
    "        info_r1 = []\n",
    "        \n",
    "        \n",
    "    print(\"---------------------------------------------------------\")\n",
    "    info = psutil.virtual_memory()\n",
    "#     print(psutil.Process(os.getpid()).memory_info().rss)\n",
    "#     print(info.total)\n",
    "    print(info.percent)\n",
    "    \n",
    "#     print(psutil.cpu_count())\n",
    "\n",
    "\n",
    "    Natom_s1 = int(info_s1[3][0])\n",
    "    index_s1 = []\n",
    "    for i in range (len(info_s1)):\n",
    "        if info_s1[i] == ['ITEM:', 'TIMESTEP']:\n",
    "            index_s1.append(i)\n",
    "\n",
    "    splited_trj1 = []\n",
    "    for j in range (len(index_s1)):\n",
    "        frame = np.zeros((Natom_s1,5))\n",
    "        for i in range (Natom_s1):\n",
    "            frame[i,0] = int(info_s1[index_s1[j]+i+9][0])\n",
    "            frame[i,1] = float(info_s1[index_s1[j]+i+9][1])\n",
    "            frame[i,2] = float(info_s1[index_s1[j]+i+9][2])\n",
    "            frame[i,3] = float(info_s1[index_s1[j]+i+9][3])\n",
    "            frame[i,4] = float(info_s1[index_s1[j]+i+9][4])\n",
    "        splited_trj1.append([frame,info_s1[index_s1[j]+5:index_s1[j]+8]])\n",
    "    \n",
    "    return splited_trj1"
   ]
  },
  {
   "cell_type": "code",
   "execution_count": null,
   "metadata": {},
   "outputs": [],
   "source": [
    "def mass_center1(pos1,bx,by,bz,bottom_x,bottom_y,bottom_z):\n",
    "    c = np.zeros((1,3))\n",
    "    \n",
    "    c[0,0] = (pos1[0,0]-bottom_x)-bx*np.floor((pos1[0,0]-bottom_x)/bx)\n",
    "    c[0,1] = (pos1[0,1]-bottom_y)-by*np.floor((pos1[0,1]-bottom_y)/by)\n",
    "    c[0,2] = (pos1[0,2]-bottom_z)-bz*np.floor((pos1[0,2]-bottom_z)/bz)\n",
    "    \n",
    "    return c"
   ]
  },
  {
   "cell_type": "code",
   "execution_count": null,
   "metadata": {},
   "outputs": [],
   "source": [
    "def mass_center2(pos1,pos2,bx,by,bz,bottom_x,bottom_y,bottom_z):\n",
    "    c = np.zeros((1,3))\n",
    "    \n",
    "    c[0,0] = (pos1[0]+pos2[0])/2\n",
    "    c[0,1] = (pos1[1]+pos2[1])/2\n",
    "    c[0,2] = (pos1[2]+pos2[2])/2\n",
    "    \n",
    "    return mass_center1(c,bx,by,bz,bottom_x,bottom_y,bottom_z)[0]"
   ]
  },
  {
   "cell_type": "code",
   "execution_count": null,
   "metadata": {},
   "outputs": [],
   "source": [
    "def mass_center3(pos1,pos2,pos3,bx,by,bz,bottom_x,bottom_y,bottom_z):\n",
    "    c = np.zeros((1,3))\n",
    "    \n",
    "    c[0,0] = (pos1[0]+pos2[0]+pos3[0])/3\n",
    "    c[0,1] = (pos1[1]+pos2[1]+pos3[1])/3\n",
    "    c[0,2] = (pos1[2]+pos2[2]+pos3[2])/3\n",
    "    \n",
    "    return mass_center1(c,bx,by,bz,bottom_x,bottom_y,bottom_z)[0]"
   ]
  },
  {
   "cell_type": "code",
   "execution_count": null,
   "metadata": {},
   "outputs": [],
   "source": [
    "def extract_information(traj,range_min,range_max):\n",
    "    ## distribution\n",
    "    \n",
    "    N_index = []\n",
    "    for i in range (len(traj[0][0])):\n",
    "        if traj[0][0][i][1] == 14.007:\n",
    "            N_index.append(i)\n",
    "    \n",
    "    A_center = []\n",
    "    D_center = []\n",
    "    \n",
    "    for target in range (range_min,range_max,10):\n",
    "        \n",
    "        bx_low = float(traj[target][1][0][0])\n",
    "        by_low = float(traj[target][1][1][0])\n",
    "        bz_low = float(traj[target][1][2][0])\n",
    "        \n",
    "        boundary_x = float(traj[target][1][0][1])-bx_low\n",
    "        boundary_y = float(traj[target][1][1][1])-by_low\n",
    "        boundary_z = float(traj[target][1][2][1])-bz_low\n",
    "        \n",
    "        A_info = []\n",
    "        D_info = []\n",
    "        \n",
    "        for i in range (int(len(N_index)/2)):\n",
    "            A_info.append(mass_center2(traj[target][0][N_index[2*i+1]-4][2:],traj[target][0][N_index[2*i+1]-1][2:],boundary_x,boundary_y,boundary_z,bx_low,by_low,bz_low))\n",
    "            D_info.append(mass_center2(traj[target][0][N_index[2*i+1]][2:],traj[target][0][N_index[2*i+1]+7][2:],boundary_x,boundary_y,boundary_z,bx_low,by_low,bz_low))\n",
    "            \n",
    "        A_center.append([A_info,boundary_x,boundary_y,boundary_z])\n",
    "        D_center.append([D_info,boundary_x,boundary_y,boundary_z])\n",
    "        \n",
    "    return A_center, D_center"
   ]
  },
  {
   "cell_type": "code",
   "execution_count": null,
   "metadata": {},
   "outputs": [],
   "source": [
    "def wrap_coordiante(pos1,bx,by,bz):\n",
    "   \n",
    "    new_pos = np.zeros((1,3))\n",
    "    \n",
    "    new_pos[0,0] = pos1[0]-bx*np.floor(pos1[0]/bx)\n",
    "    new_pos[0,1] = pos1[1]-by*np.floor(pos1[1]/by)\n",
    "    new_pos[0,2] = pos1[2]-bz*np.floor(pos1[2]/bz)\n",
    "\n",
    "    return new_pos"
   ]
  },
  {
   "cell_type": "code",
   "execution_count": null,
   "metadata": {},
   "outputs": [],
   "source": [
    "def center_distance(n1,n2,bx,by,bz):\n",
    "    \n",
    "    dis = wrap_distance(n1,n2,bx,by,bz)\n",
    "    \n",
    "    return dis"
   ]
  },
  {
   "cell_type": "code",
   "execution_count": null,
   "metadata": {},
   "outputs": [],
   "source": [
    "def wrap_distance(n1,n2,bx,by,bz):\n",
    "    relevant_pos = np.zeros((1,3))\n",
    "    new_coordiantes = np.zeros((1,3))\n",
    "    \n",
    "    relevant_pos[0,0] = n2[0,0]-n1[0,0]\n",
    "    relevant_pos[0,1] = n2[0,1]-n1[0,1]\n",
    "    relevant_pos[0,2] = n2[0,2]-n1[0,2]\n",
    "    \n",
    "    new_coordiantes[0,0] = relevant_pos[0,0]-bx*np.round(relevant_pos[0,0]/bx)\n",
    "    new_coordiantes[0,1] = relevant_pos[0,1]-by*np.round(relevant_pos[0,1]/by)\n",
    "    new_coordiantes[0,2] = relevant_pos[0,2]-bz*np.round(relevant_pos[0,2]/bz)\n",
    "    \n",
    "    return np.sqrt(new_coordiantes[0,0]**2+new_coordiantes[0,1]**2+new_coordiantes[0,2]**2)"
   ]
  },
  {
   "cell_type": "code",
   "execution_count": null,
   "metadata": {},
   "outputs": [],
   "source": [
    "def gr_1st(new_a,b_dis,bx,by,bz,sep):\n",
    "    \n",
    "    count = np.zeros((len(sep)-1,2))\n",
    "    for j in range (len(sep)-1):\n",
    "        count[j,0] = sep[j+1]\n",
    "    \n",
    "    info = []\n",
    "    for i in range (len(b_dis)):\n",
    "        new_b = wrap_coordiante(b_dis[i],bx,by,bz)\n",
    "        dis = center_distance(new_a,new_b,bx,by,bz)\n",
    "        if dis <= up_limit and dis!= 0:\n",
    "            info.append(dis)\n",
    "    \n",
    "#     rho0 = len(info)/(4/3*np.pi*(up_limit**3))\n",
    "    rho0 = len(b_dis)/(bx*by*bz)\n",
    "#     print(\"samples = %d\"%(len(info))+\", \"+\"density = %.4f\"%(len(info)/(4/3*np.pi*(up_limit**3))))\n",
    "#     print(\"density = %.4f\"%(len(b_dis)/(bx*by*bz)))\n",
    "#     print(\"------------\")\n",
    "    for p in range (len(info)):\n",
    "        for q in range (len(count)):\n",
    "            if info[p]>sep[q] and info[p]<=sep[q+1]:\n",
    "                count[q,1] += 1/rho0\n",
    "\n",
    "    return count"
   ]
  },
  {
   "cell_type": "code",
   "execution_count": null,
   "metadata": {},
   "outputs": [],
   "source": [
    "def gr(a_dis,b_dis,up_limit,interval):\n",
    "    \n",
    "    bins = int(np.ceil(up_limit/interval))\n",
    "    sep = np.linspace(0,1,bins+1)\n",
    "\n",
    "    \n",
    "    for j in range (bins):\n",
    "        sep[j+1] = (j+1)*interval\n",
    "    sep[bins] = up_limit\n",
    "    \n",
    "    \n",
    "    gr_time = []\n",
    "    for target in range (len(a_dis)):\n",
    "        \n",
    "        gr_all = np.zeros((bins,2))\n",
    "        for j in range (bins):\n",
    "            gr_all[j,0] = sep[j+1]\n",
    "        \n",
    "        info = []\n",
    "        bx = a_dis[target][1]\n",
    "        by = a_dis[target][2]\n",
    "        bz = a_dis[target][3]\n",
    "        \n",
    "        for a in range (len(a_dis[target][0])):\n",
    "            new_a = wrap_coordiante(a_dis[target][0][a],bx,by,bz)\n",
    "            gr_a = gr_1st(new_a,b_dis[target][0],bx,by,bz,sep)\n",
    "            \n",
    "            for p in range (len(gr_a)):\n",
    "                gr_all[p,1] += gr_a[p,1]\n",
    "            \n",
    "        for q in range (len(gr_a)):\n",
    "            gr_all[q,1] = gr_all[q,1]/len(a_dis[target][0])/(4/3*np.pi*(sep[q+1]**3-sep[q]**3))\n",
    "        \n",
    "        gr_time.append(gr_all)\n",
    "    \n",
    "    return gr_time"
   ]
  },
  {
   "cell_type": "code",
   "execution_count": null,
   "metadata": {},
   "outputs": [],
   "source": [
    "def gauss1D(x,mu=0,sigma=1):\n",
    "    return np.exp(-0.5*(x-mu)**2/sigma/sigma)/np.sqrt(2.*np.pi)/sigma\n",
    "\n",
    "def gr_smooth(a_dis,b_dis,up_limit,interval):\n",
    "    \n",
    "    NRmax = int(np.ceil(up_limit/interval))+1\n",
    "    \n",
    "    bins = np.linspace(0,up_limit,NRmax,endpoint=True)\n",
    "    radii = np.zeros(shape=(NRmax-1,),dtype=\"f8\")\n",
    "    volumes = np.zeros(shape=(NRmax-1,),dtype=\"f8\")\n",
    "    \n",
    "    for i in range(NRmax-1):\n",
    "        radii[i] = (bins[i]+bins[i+1])/2. # middle point between two bins\n",
    "        volumes[i] = 4/3*np.pi*(bins[i+1]**3-bins[i]**3)\n",
    "    \n",
    "    gr_time = []\n",
    "    for target in range (len(a_dis)):\n",
    "        \n",
    "        hist = np.zeros(shape=(NRmax-1,),dtype=\"f8\")\n",
    "        bx = a_dis[target][1]\n",
    "        by = a_dis[target][2]\n",
    "        bz = a_dis[target][3]\n",
    "        \n",
    "    \n",
    "        for a in range (len(a_dis[target][0])):        \n",
    "            new_a = wrap_coordiante(a_dis[target][0][a],bx,by,bz)\n",
    "            \n",
    "            for b in range (len(b_dis[target][0])):\n",
    "                new_b = wrap_coordiante(b_dis[target][0][b],bx,by,bz)\n",
    "                dis = center_distance(new_a,new_b,bx,by,bz)\n",
    "                if dis<=up_limit and dis!=0:\n",
    "                    hist += gauss1D(radii,dis,0.6)*up_limit/NRmax\n",
    "         \n",
    "        gr_all = np.zeros((len(bins)-1,2))\n",
    "        for j in range (len(bins)-1):\n",
    "            gr_all[j,0] = radii[j]\n",
    "            gr_all[j,1] = hist[j]/volumes[j]/len(a_dis[target][0])/(len(b_dis[target][0])/(bx*by*bz))\n",
    "        \n",
    "        gr_time.append(gr_all)\n",
    "    \n",
    "    return gr_time"
   ]
  },
  {
   "cell_type": "code",
   "execution_count": null,
   "metadata": {},
   "outputs": [],
   "source": [
    "def write_data(data_AA,data_DD,data_AA_smooth,data_DD_smooth,name,strain):\n",
    "    \n",
    "    def average(data):\n",
    "        info_ = np.zeros((len(data[0]),2))\n",
    "        \n",
    "        for r in range (len(data[0])):\n",
    "            info_[r,0] = data[0][r,0]\n",
    "            for t in range (len(data)):\n",
    "                info_[r,1] += data[t][r,1]/len(data)\n",
    "        return info_\n",
    "            \n",
    "    info_aa = average(data_AA)\n",
    "    info_dd = average(data_DD)\n",
    "    info_aas = average(data_AA_smooth)\n",
    "    info_dds = average(data_DD_smooth)\n",
    "    \n",
    "    file = open(f\"{name}_{strain}.txt\",\"w\")\n",
    "    file.write(\"distance      AA      DD      AA(s)      DD(s)\")\n",
    "    file.write(\"\\n\")\n",
    "    \n",
    "    for i in range (len(info_aa)):\n",
    "        file.write(\"%.2f\"%(info_aa[i,0])+\"      \")\n",
    "        file.write(\"%.4f\"%(info_aa[i,1])+\"     \")\n",
    "        file.write(\"%.4f\"%(info_dd[i,1])+\"     \")\n",
    "        file.write(\"%.4f\"%(info_aas[i,1])+\"     \")\n",
    "        file.write(\"%.4f\"%(info_dds[i,1])+\"     \")\n",
    "        file.write(\"\\n\")\n",
    "    file.close()"
   ]
  },
  {
   "cell_type": "code",
   "execution_count": null,
   "metadata": {},
   "outputs": [],
   "source": [
    "def have_a_look(data_ori,data_smooth,name,type_):\n",
    "    fig = plt.figure(figsize=(8,6))\n",
    "    ax = fig.add_subplot(111)\n",
    "\n",
    "    def average(data):\n",
    "        info_ = np.zeros((len(data[0]),2))\n",
    "\n",
    "        for r in range (len(data[0])):\n",
    "            info_[r,0] = data[0][r,0]\n",
    "            for t in range (len(data)):\n",
    "                info_[r,1] += data[t][r,1]/len(data)\n",
    "        return info_\n",
    "\n",
    "    test1 = average(data_ori)\n",
    "    test2 = average(data_smooth)\n",
    "\n",
    "    ax.plot(test1[:-10,0],test1[:-10,1],color=\"black\",label='ori')\n",
    "    ax.plot(test2[:-10,0],test2[:-10,1],color=\"red\",label='smooth')\n",
    "    \n",
    "    ax.set_xlabel(\"r ($\\AA$)\",fontsize=20)\n",
    "    ax.set_ylabel(\"$g_{r}$\",fontsize=20)\n",
    "    ax.set_title(f\"{name} {type_}\",fontsize=20)\n",
    "    \n",
    "    plt.legend()\n",
    "    plt.show()"
   ]
  },
  {
   "cell_type": "markdown",
   "metadata": {},
   "source": [
    "# M"
   ]
  },
  {
   "cell_type": "code",
   "execution_count": null,
   "metadata": {},
   "outputs": [],
   "source": [
    "name = \"pdkcm\"\n",
    "sname = \"m\"\n",
    "bname=\"PDKCM\"\n",
    "temperature = 1.2\n",
    "\n",
    "up_limit = 30\n",
    "interval = 0.3\n",
    "\n",
    "splited_m_0 = read_traj(\"s0-ta.trj\",0)\n",
    "A_m_0, D_m_0 = extract_information(splited_m_0,0,len(splited_m_0))\n",
    "\n",
    "splited_m_50 = read_traj(\"s13_ta.trj\",0)\n",
    "A_m_50, D_m_50 = extract_information(splited_m_50,0,len(splited_m_50))\n",
    "\n",
    "splited_m_100 = read_traj(\"s27_ta.trj\",0)\n",
    "A_m_100, D_m_100 = extract_information(splited_m_100,0,len(splited_m_100))"
   ]
  },
  {
   "cell_type": "markdown",
   "metadata": {},
   "source": [
    "### 0%"
   ]
  },
  {
   "cell_type": "code",
   "execution_count": null,
   "metadata": {},
   "outputs": [],
   "source": [
    "# gr_m_0_ad = gr(A_m_0,D_m_0,up_limit,interval)\n",
    "# gr_m_0_ad_s = gr_smooth(A_m_0,D_m_0,up_limit,interval)\n",
    "\n",
    "gr_m_0_aa = gr(A_m_0,A_m_0,up_limit,interval)\n",
    "gr_m_0_aa_s = gr_smooth(A_m_0,A_m_0,up_limit,interval)\n",
    "\n",
    "gr_m_0_dd = gr(D_m_0,D_m_0,up_limit,interval)\n",
    "gr_m_0_dd_s = gr_smooth(D_m_0,D_m_0,up_limit,interval)\n",
    "\n",
    "# gr_m_0_da = gr(D_m_0,A_m_0,up_limit,interval)\n",
    "# gr_m_0_da_s = gr_smooth(D_m_0,A_m_0,up_limit,interval)"
   ]
  },
  {
   "cell_type": "markdown",
   "metadata": {},
   "source": [
    "### 50%"
   ]
  },
  {
   "cell_type": "code",
   "execution_count": null,
   "metadata": {},
   "outputs": [],
   "source": [
    "# # gr_m_50_ad = gr(A_m_50,D_m_50,up_limit,interval)\n",
    "# # gr_m_50_ad_s = gr_smooth(A_m_50,D_m_50,up_limit,interval)\n",
    "\n",
    "gr_m_50_aa = gr(A_m_50,A_m_50,up_limit,interval)\n",
    "gr_m_50_aa_s = gr_smooth(A_m_50,A_m_50,up_limit,interval)\n",
    "\n",
    "gr_m_50_dd = gr(D_m_50,D_m_50,up_limit,interval)\n",
    "gr_m_50_dd_s = gr_smooth(D_m_50,D_m_50,up_limit,interval)\n",
    "\n",
    "# # gr_m_50_da = gr(D_m_50,A_m_50,up_limit,interval)\n",
    "# # gr_m_50_da_s = gr_smooth(D_m_50,A_m_50,up_limit,interval)"
   ]
  },
  {
   "cell_type": "markdown",
   "metadata": {},
   "source": [
    "### 100%"
   ]
  },
  {
   "cell_type": "code",
   "execution_count": null,
   "metadata": {},
   "outputs": [],
   "source": [
    "# # gr_m_100_ad = gr(A_m_100,D_m_100,up_limit,interval)\n",
    "# # gr_m_100_ad_s = gr_smooth(A_m_100,D_m_100,up_limit,interval)\n",
    "\n",
    "gr_m_100_aa = gr(A_m_100,A_m_100,up_limit,interval)\n",
    "gr_m_100_aa_s = gr_smooth(A_m_100,A_m_100,up_limit,interval)\n",
    "\n",
    "gr_m_100_dd = gr(D_m_100,D_m_100,up_limit,interval)\n",
    "gr_m_100_dd_s = gr_smooth(D_m_100,D_m_100,up_limit,interval)\n",
    "\n",
    "# # gr_m_100_da = gr(D_m_100,A_m_100,up_limit,interval)\n",
    "# # gr_m_100_da_s = gr_smooth(D_m_100,A_m_100,up_limit,interval)"
   ]
  },
  {
   "cell_type": "code",
   "execution_count": null,
   "metadata": {
    "scrolled": false
   },
   "outputs": [],
   "source": [
    "have_a_look(gr_m_0_aa,gr_m_0_aa_s,\"PDKCM\",\"0% AA\")\n",
    "have_a_look(gr_m_0_dd,gr_m_0_dd_s,\"PDKCM\",\"0% DD\")\n",
    "\n",
    "have_a_look(gr_m_50_aa,gr_m_50_aa_s,\"PDKCM\",\"50% AA\")\n",
    "have_a_look(gr_m_50_dd,gr_m_50_dd_s,\"PDKCM\",\"50% DD\")\n",
    "\n",
    "have_a_look(gr_m_100_aa,gr_m_100_aa_s,\"PDKCM\",\"100% AA\")\n",
    "have_a_look(gr_m_100_dd,gr_m_100_dd_s,\"PDKCM\",\"100% DD\")"
   ]
  },
  {
   "cell_type": "code",
   "execution_count": null,
   "metadata": {},
   "outputs": [],
   "source": [
    "write_data(gr_m_0_aa,gr_m_0_dd,gr_m_0_aa_s,gr_m_0_dd_s,\"M\",0)\n",
    "write_data(gr_m_50_aa,gr_m_50_dd,gr_m_50_aa_s,gr_m_50_dd_s,\"M\",50)\n",
    "write_data(gr_m_100_aa,gr_m_100_dd,gr_m_100_aa_s,gr_m_100_dd_s,\"M\",100)\n",
    "\n",
    "splited_m_0 = []\n",
    "splited_m_50 = []\n",
    "splited_m_100 = []"
   ]
  },
  {
   "cell_type": "markdown",
   "metadata": {},
   "source": [
    "# P"
   ]
  },
  {
   "cell_type": "code",
   "execution_count": null,
   "metadata": {},
   "outputs": [],
   "source": [
    "name = \"pdkcp\"\n",
    "sname = \"p\"\n",
    "bname=\"PDKCP\"\n",
    "temperature = 1.2\n",
    "\n",
    "up_limit = 30\n",
    "interval = 0.3\n",
    "\n",
    "splited_p_0 = read_traj(f\"s0_ta.trj\",0)\n",
    "A_p_0, D_p_0 = extract_information(splited_p_0,0,len(splited_p_0))\n",
    "\n",
    "splited_p_50 = read_traj(f\"s17_ta.trj\",0)\n",
    "A_p_50, D_p_50 = extract_information(splited_p_50,0,len(splited_p_50))\n",
    "\n",
    "splited_p_100 = read_traj(f\"s27_ta.trj\",0)\n",
    "A_p_100, D_p_100 = extract_information(splited_p_100,0,len(splited_p_100))"
   ]
  },
  {
   "cell_type": "markdown",
   "metadata": {},
   "source": [
    "### 0%"
   ]
  },
  {
   "cell_type": "code",
   "execution_count": null,
   "metadata": {},
   "outputs": [],
   "source": [
    "# gr_p_0_ad = gr(A_p_0,D_p_0,up_limit,interval)\n",
    "# gr_p_0_ad_s = gr_smooth(A_p_0,D_p_0,up_limit,interval)\n",
    "\n",
    "gr_p_0_aa = gr(A_p_0,A_p_0,up_limit,interval)\n",
    "gr_p_0_aa_s = gr_smooth(A_p_0,A_p_0,up_limit,interval)\n",
    "\n",
    "gr_p_0_dd = gr(D_p_0,D_p_0,up_limit,interval)\n",
    "gr_p_0_dd_s = gr_smooth(D_p_0,D_p_0,up_limit,interval)\n",
    "\n",
    "# gr_p_0_da = gr(D_p_0,A_p_0,up_limit,interval)\n",
    "# gr_p_0_da_s = gr_smooth(D_p_0,A_p_0,up_limit,interval)"
   ]
  },
  {
   "cell_type": "markdown",
   "metadata": {},
   "source": [
    "### 50%"
   ]
  },
  {
   "cell_type": "code",
   "execution_count": null,
   "metadata": {},
   "outputs": [],
   "source": [
    "# # gr_p_50_ad = gr(A_p_50,D_p_50,up_limit,interval)\n",
    "# # gr_p_50_ad_s = gr_smooth(A_p_50,D_p_50,up_limit,interval)\n",
    "\n",
    "gr_p_50_aa = gr(A_p_50,A_p_50,up_limit,interval)\n",
    "gr_p_50_aa_s = gr_smooth(A_p_50,A_p_50,up_limit,interval)\n",
    "\n",
    "gr_p_50_dd = gr(D_p_50,D_p_50,up_limit,interval)\n",
    "gr_p_50_dd_s = gr_smooth(D_p_50,D_p_50,up_limit,interval)\n",
    "\n",
    "# # gr_p_50_da = gr(D_p_50,A_p_50,up_limit,interval)\n",
    "# # gr_p_50_da_s = gr_smooth(D_p_50,A_p_50,up_limit,interval)"
   ]
  },
  {
   "cell_type": "markdown",
   "metadata": {},
   "source": [
    "### 100%"
   ]
  },
  {
   "cell_type": "code",
   "execution_count": null,
   "metadata": {},
   "outputs": [],
   "source": [
    "# # gr_p_100_ad = gr(A_p_100,D_p_100,up_limit,interval)\n",
    "# # gr_p_100_ad_s = gr_smooth(A_p_100,D_p_100,up_limit,interval)\n",
    "\n",
    "gr_p_100_aa = gr(A_p_100,A_p_100,up_limit,interval)\n",
    "gr_p_100_aa_s = gr_smooth(A_p_100,A_p_100,up_limit,interval)\n",
    "\n",
    "gr_p_100_dd = gr(D_p_100,D_p_100,up_limit,interval)\n",
    "gr_p_100_dd_s = gr_smooth(D_p_100,D_p_100,up_limit,interval)\n",
    "\n",
    "# # gr_p_100_da = gr(D_p_100,A_p_100,up_limit,interval)\n",
    "# # gr_p_100_da_s = gr_smooth(D_p_100,A_p_100,up_limit,interval)"
   ]
  },
  {
   "cell_type": "code",
   "execution_count": null,
   "metadata": {
    "scrolled": false
   },
   "outputs": [],
   "source": [
    "have_a_look(gr_p_0_aa,gr_p_0_aa_s,\"PDKCP\",\"0% AA\")\n",
    "have_a_look(gr_p_0_dd,gr_p_0_dd_s,\"PDKCP\",\"0% DD\")\n",
    "\n",
    "have_a_look(gr_p_50_aa,gr_p_50_aa_s,\"PDKCP\",\"50% AA\")\n",
    "have_a_look(gr_p_50_dd,gr_p_50_dd_s,\"PDKCP\",\"50% DD\")\n",
    "\n",
    "have_a_look(gr_p_100_aa,gr_p_100_aa_s,\"PDKCP\",\"100% AA\")\n",
    "have_a_look(gr_p_100_dd,gr_p_100_dd_s,\"PDKCP\",\"100% DD\")"
   ]
  },
  {
   "cell_type": "code",
   "execution_count": null,
   "metadata": {},
   "outputs": [],
   "source": [
    "write_data(gr_p_0_aa,gr_p_0_dd,gr_p_0_aa_s,gr_p_0_dd_s,\"P\",0)\n",
    "write_data(gr_p_50_aa,gr_p_50_dd,gr_p_50_aa_s,gr_p_50_dd_s,\"P\",50)\n",
    "write_data(gr_p_100_aa,gr_p_100_dd,gr_p_100_aa_s,gr_p_100_dd_s,\"P\",100)\n",
    "\n",
    "splited_p_0 = []\n",
    "splited_p_50 = []\n",
    "splited_p_100 = []"
   ]
  },
  {
   "cell_type": "markdown",
   "metadata": {},
   "source": [
    "# H"
   ]
  },
  {
   "cell_type": "code",
   "execution_count": null,
   "metadata": {},
   "outputs": [],
   "source": [
    "name = \"pdkch\"\n",
    "sname = \"h\"\n",
    "bname=\"PDKCH\"\n",
    "temperature = 1.2\n",
    "\n",
    "up_limit = 30\n",
    "interval = 0.3\n",
    "\n",
    "splited_h_0 = read_traj(f\"s0_ta.trj\",0)\n",
    "A_h_0, D_h_0 = extract_information(splited_h_0,0,len(splited_h_0))\n",
    "splited_h_0_2 = read_traj(f\"s0_ta-2.trj\",0)\n",
    "A_h_0_2, D_h_0_2 = extract_information(splited_h_0_2,0,len(splited_h_0_2))\n",
    "for i in range (1,len(A_h_0_2)):\n",
    "    A_h_0.append(A_h_0_2[i])\n",
    "for i in range (1,len(D_h_0_2)):\n",
    "    D_h_0.append(D_h_0_2[i])\n",
    "\n",
    "splited_h_50 = read_traj(f\"s17_ta.trj\",0)\n",
    "A_h_50, D_h_50 = extract_information(splited_h_50,0,len(splited_h_50))\n",
    "splited_h_50_2 = read_traj(f\"s17_ta-2.trj\",0)\n",
    "A_h_50_2, D_h_50_2 = extract_information(splited_h_50_2,0,len(splited_h_50_2))\n",
    "for i in range (1,len(A_h_50_2)):\n",
    "    A_h_50.append(A_h_50_2[i])\n",
    "for i in range (1,len(D_h_50_2)):\n",
    "    D_h_50.append(D_h_50_2[i])\n",
    "\n",
    "splited_h_100 = read_traj(f\"s27_ta.trj\",0)\n",
    "A_h_100, D_h_100 = extract_information(splited_h_100,0,len(splited_h_100))"
   ]
  },
  {
   "cell_type": "code",
   "execution_count": null,
   "metadata": {},
   "outputs": [],
   "source": [
    "splited_h_100 = read_traj(f\"s27_ta.trj\",0)\n",
    "A_h_100, D_h_100 = extract_information(splited_h_100,0,len(splited_h_100))"
   ]
  },
  {
   "cell_type": "markdown",
   "metadata": {},
   "source": [
    "## 0%"
   ]
  },
  {
   "cell_type": "code",
   "execution_count": null,
   "metadata": {},
   "outputs": [],
   "source": [
    "# gr_h_0_ad = gr(A_h_0,D_h_0,up_limit,interval)\n",
    "# gr_h_0_ad_s = gr_smooth(A_h_0,D_h_0,up_limit,interval)\n",
    "\n",
    "gr_h_0_aa = gr(A_h_0,A_h_0,up_limit,interval)\n",
    "gr_h_0_aa_s = gr_smooth(A_h_0,A_h_0,up_limit,interval)\n",
    "\n",
    "gr_h_0_dd = gr(D_h_0,D_h_0,up_limit,interval)\n",
    "gr_h_0_dd_s = gr_smooth(D_h_0,D_h_0,up_limit,interval)\n",
    "\n",
    "# gr_h_0_da = gr(D_h_0,A_h_0,up_limit,interval)\n",
    "# gr_h_0_da_s = gr_smooth(D_h_0,A_h_0,up_limit,interval)"
   ]
  },
  {
   "cell_type": "markdown",
   "metadata": {},
   "source": [
    "### 50%"
   ]
  },
  {
   "cell_type": "code",
   "execution_count": null,
   "metadata": {},
   "outputs": [],
   "source": [
    "# # gr_h_50_ad = gr(A_h_50,D_h_50,up_limit,interval)\n",
    "# # gr_h_50_ad_s = gr_smooth(A_h_50,D_h_50,up_limit,interval)\n",
    "\n",
    "gr_h_50_aa = gr(A_h_50,A_h_50,up_limit,interval)\n",
    "gr_h_50_aa_s = gr_smooth(A_h_50,A_h_50,up_limit,interval)\n",
    "\n",
    "gr_h_50_dd = gr(D_h_50,D_h_50,up_limit,interval)\n",
    "gr_h_50_dd_s = gr_smooth(D_h_50,D_h_50,up_limit,interval)\n",
    "\n",
    "# # gr_h_50_da = gr(D_h_50,A_h_50,up_limit,interval)\n",
    "# # gr_h_50_da_s = gr_smooth(D_h_50,A_h_50,up_limit,interval)"
   ]
  },
  {
   "cell_type": "markdown",
   "metadata": {},
   "source": [
    "### 100%"
   ]
  },
  {
   "cell_type": "code",
   "execution_count": null,
   "metadata": {},
   "outputs": [],
   "source": [
    "# # gr_h_100_ad = gr(A_h_100,D_h_100,up_limit,interval)\n",
    "# # gr_h_100_ad_s = gr_smooth(A_h_100,D_h_100,up_limit,interval)\n",
    "\n",
    "gr_h_100_aa = gr(A_h_100,A_h_100,up_limit,interval)\n",
    "gr_h_100_aa_s = gr_smooth(A_h_100,A_h_100,up_limit,interval)\n",
    "\n",
    "gr_h_100_dd = gr(D_h_100,D_h_100,up_limit,interval)\n",
    "gr_h_100_dd_s = gr_smooth(D_h_100,D_h_100,up_limit,interval)\n",
    "\n",
    "# # gr_h_100_da = gr(D_h_100,A_h_100,up_limit,interval)\n",
    "# # gr_h_100_da_s = gr_smooth(D_h_100,A_h_100,up_limit,interval)"
   ]
  },
  {
   "cell_type": "code",
   "execution_count": null,
   "metadata": {
    "scrolled": false
   },
   "outputs": [],
   "source": [
    "have_a_look(gr_h_0_aa,gr_h_0_aa_s,\"PDKCH\",\"0% AA\")\n",
    "have_a_look(gr_h_0_dd,gr_h_0_dd_s,\"PDKCH\",\"0% DD\")\n",
    "\n",
    "have_a_look(gr_h_50_aa,gr_h_50_aa_s,\"PDKCH\",\"50% AA\")\n",
    "have_a_look(gr_h_50_dd,gr_h_50_dd_s,\"PDKCH\",\"50% DD\")\n",
    "\n",
    "have_a_look(gr_h_100_aa,gr_h_100_aa_s,\"PDKCH\",\"100% AA\")\n",
    "have_a_look(gr_h_100_dd,gr_h_100_dd_s,\"PDKCH\",\"100% DD\")"
   ]
  },
  {
   "cell_type": "code",
   "execution_count": null,
   "metadata": {},
   "outputs": [],
   "source": [
    "write_data(gr_h_0_aa,gr_h_0_dd,gr_h_0_aa_s,gr_h_0_dd_s,\"H\",0)\n",
    "write_data(gr_h_50_aa,gr_h_50_dd,gr_h_50_aa_s,gr_h_50_dd_s,\"H\",50)\n",
    "write_data(gr_h_100_aa,gr_h_100_dd,gr_h_100_aa_s,gr_h_100_dd_s,\"H\",100)\n",
    "\n",
    "splited_h_0 = []\n",
    "splited_h_50 = []\n",
    "splited_h_100 = []"
   ]
  },
  {
   "cell_type": "markdown",
   "metadata": {},
   "source": [
    "# D"
   ]
  },
  {
   "cell_type": "code",
   "execution_count": null,
   "metadata": {},
   "outputs": [],
   "source": [
    "name = \"pdkcd\"\n",
    "sname = \"d\"\n",
    "bname=\"PDKCD\"\n",
    "temperature = 1.2\n",
    "\n",
    "up_limit = 30\n",
    "interval = 0.3\n",
    "\n",
    "splited_d_0 = read_traj(f\"s0_ta-1.trj\",0)\n",
    "A_d_0, D_d_0 = extract_information(splited_d_0,0,len(splited_d_0))\n",
    "splited_d_0_2 = read_traj(f\"s0_ta-2.trj\",0)\n",
    "A_d_0_2, D_d_0_2 = extract_information(splited_d_0_2,0,len(splited_d_0_2))\n",
    "\n",
    "for i in range (1,len(A_d_0_2)):\n",
    "    A_d_0.append(A_d_0_2[i])\n",
    "for i in range (1,len(D_d_0_2)):\n",
    "    D_d_0.append(D_d_0_2[i])\n",
    "\n",
    "\n",
    "splited_d_50 = read_traj(f\"s10_ta.trj\",0)\n",
    "A_d_50, D_d_50 = extract_information(splited_d_50,0,len(splited_d_50))\n",
    "\n",
    "splited_d_100 = read_traj(f\"s20_ta.trj\",0)\n",
    "A_d_100, D_d_100 = extract_information(splited_d_100,0,len(splited_d_100))"
   ]
  },
  {
   "cell_type": "markdown",
   "metadata": {},
   "source": [
    "### 0%"
   ]
  },
  {
   "cell_type": "code",
   "execution_count": null,
   "metadata": {},
   "outputs": [],
   "source": [
    "# gr_d_0_ad = gr(A_d_0,D_d_0,up_limit,interval)\n",
    "# gr_d_0_ad_s = gr_smooth(A_d_0,D_d_0,up_limit,interval)\n",
    "\n",
    "gr_d_0_aa = gr(A_d_0,A_d_0,up_limit,interval)\n",
    "gr_d_0_aa_s = gr_smooth(A_d_0,A_d_0,up_limit,interval)\n",
    "\n",
    "gr_d_0_dd = gr(D_d_0,D_d_0,up_limit,interval)\n",
    "gr_d_0_dd_s = gr_smooth(D_d_0,D_d_0,up_limit,interval)\n",
    "\n",
    "# gr_d_0_da = gr(D_d_0,A_d_0,up_limit,interval)\n",
    "# gr_d_0_da_s = gr_smooth(D_d_0,A_d_0,up_limit,interval)"
   ]
  },
  {
   "cell_type": "markdown",
   "metadata": {},
   "source": [
    "### 50%"
   ]
  },
  {
   "cell_type": "code",
   "execution_count": null,
   "metadata": {},
   "outputs": [],
   "source": [
    "# # gr_d_50_ad = gr(A_d_50,D_d_50,up_limit,interval)\n",
    "# # gr_d_50_ad_s = gr_smooth(A_d_50,D_d_50,up_limit,interval)\n",
    "\n",
    "gr_d_50_aa = gr(A_d_50,A_d_50,up_limit,interval)\n",
    "gr_d_50_aa_s = gr_smooth(A_d_50,A_d_50,up_limit,interval)\n",
    "\n",
    "gr_d_50_dd = gr(D_d_50,D_d_50,up_limit,interval)\n",
    "gr_d_50_dd_s = gr_smooth(D_d_50,D_d_50,up_limit,interval)\n",
    "\n",
    "# # gr_d_50_da = gr(D_d_50,A_d_50,up_limit,interval)\n",
    "# # gr_d_50_da_s = gr_smooth(D_d_50,A_d_50,up_limit,interval)"
   ]
  },
  {
   "cell_type": "markdown",
   "metadata": {},
   "source": [
    "### 100%"
   ]
  },
  {
   "cell_type": "code",
   "execution_count": null,
   "metadata": {},
   "outputs": [],
   "source": [
    "# # gr_d_100_ad = gr(A_d_100,D_d_100,up_limit,interval)\n",
    "# # gr_d_100_ad_s = gr_smooth(A_d_100,D_d_100,up_limit,interval)\n",
    "\n",
    "gr_d_100_aa = gr(A_d_100,A_d_100,up_limit,interval)\n",
    "gr_d_100_aa_s = gr_smooth(A_d_100,A_d_100,up_limit,interval)\n",
    "\n",
    "gr_d_100_dd = gr(D_d_100,D_d_100,up_limit,interval)\n",
    "gr_d_100_dd_s = gr_smooth(D_d_100,D_d_100,up_limit,interval)\n",
    "\n",
    "# # gr_d_100_da = gr(D_d_100,A_d_100,up_limit,interval)\n",
    "# # gr_d_100_da_s = gr_smooth(D_d_100,A_d_100,up_limit,interval)"
   ]
  },
  {
   "cell_type": "code",
   "execution_count": null,
   "metadata": {
    "scrolled": false
   },
   "outputs": [],
   "source": [
    "have_a_look(gr_d_0_aa,gr_d_0_aa_s,\"PDKCD\",\"0% AA\")\n",
    "have_a_look(gr_d_0_dd,gr_d_0_dd_s,\"PDKCD\",\"0% AA\")\n",
    "\n",
    "have_a_look(gr_d_50_aa,gr_d_50_aa_s,\"PDKCD\",\"50% AA\")\n",
    "have_a_look(gr_d_50_dd,gr_d_50_dd_s,\"PDKCD\",\"50% DD\")\n",
    "\n",
    "have_a_look(gr_d_100_aa,gr_d_100_aa_s,\"PDKCD\",\"100% AA\")\n",
    "have_a_look(gr_d_100_dd,gr_d_100_dd_s,\"PDKCD\",\"100% DD\")"
   ]
  },
  {
   "cell_type": "code",
   "execution_count": null,
   "metadata": {},
   "outputs": [],
   "source": [
    "write_data(gr_d_0_aa,gr_d_0_dd,gr_d_0_aa_s,gr_d_0_dd_s,\"D\",0)\n",
    "write_data(gr_d_50_aa,gr_d_50_dd,gr_d_50_aa_s,gr_d_50_dd_s,\"D\",50)\n",
    "write_data(gr_d_100_aa,gr_d_100_dd,gr_d_100_aa_s,gr_d_100_dd_s,\"D\",100)\n",
    "\n",
    "splited_d_0 = []\n",
    "splited_d_50 = []\n",
    "splited_d_100 = []"
   ]
  },
  {
   "cell_type": "markdown",
   "metadata": {},
   "source": [
    "# TEST"
   ]
  },
  {
   "cell_type": "code",
   "execution_count": null,
   "metadata": {},
   "outputs": [],
   "source": [
    "# def comparison_strain(data_0,data_50,data_100,bname,type_):\n",
    "#     fig = plt.figure(figsize=(8,6))\n",
    "#     ax = fig.add_subplot(111)\n",
    "    \n",
    "#     def average(data):\n",
    "#         info_ = np.zeros((len(data[0]),2))\n",
    "        \n",
    "#         for r in range (len(data[0])):\n",
    "#             info_[r,0] = data[0][r,0]\n",
    "#             for t in range (len(data)):\n",
    "#                 info_[r,1] += data[t][r,1]/len(data)\n",
    "#         return info_\n",
    "            \n",
    "#     info_0 = average(data_0)\n",
    "#     info_50 = average(data_0)\n",
    "#     info_100 = average(data_0)\n",
    "    \n",
    "    \n",
    "#     ax.plot(info_0[:-10,0],info_0[:-10,1],color=\"black\",label='0% strain')\n",
    "#     ax.plot(info_50[:-10,0],info_50[:-10,1],color=\"red\",label='50% strain')\n",
    "#     ax.plot(info_100[:-10,0],info_100[:-10,1],color=\"green\",label='100% strain')\n",
    "    \n",
    "#     if type_==\"AD\":\n",
    "#         ax.set_xlabel(\"$r_{AD}$ ($\\AA$)\",fontsize=20)\n",
    "#         ax.set_ylabel(\"$g(r_{AD})$ \",fontsize=20)\n",
    "#     elif type_==\"AA\":\n",
    "#         ax.set_xlabel(\"$r_{AA}$ ($\\AA$)\",fontsize=20)\n",
    "#         ax.set_ylabel(\"$g(r_{AA})$ \",fontsize=20)\n",
    "#     elif type_==\"DD\":\n",
    "#         ax.set_xlabel(\"$r_{DD}$ ($\\AA$)\",fontsize=20)\n",
    "#         ax.set_ylabel(\"$g(r_{DD})$ \",fontsize=20)\n",
    "#     elif type_==\"DA\":\n",
    "#         ax.set_xlabel(\"$r_{DA}$ ($\\AA$)\",fontsize=20)\n",
    "#         ax.set_ylabel(\"$g(r_{DA})$ \",fontsize=20)\n",
    "        \n",
    "#     ax.set_title(f\"{bname}\",fontsize=20)\n",
    "    \n",
    "#     plt.legend(fontsize=18)\n",
    "#     plt.savefig(f\"{bname}_{type_}.pdf\")\n",
    "#     plt.show()"
   ]
  },
  {
   "cell_type": "code",
   "execution_count": null,
   "metadata": {},
   "outputs": [],
   "source": [
    "# comparison_strain(gr_m_0_ad_s,gr_m_50_ad_s,gr_m_100_ad_s,\"PDKCM\",\"AD\")\n",
    "comparison_strain(gr_m_0_aa_s,gr_m_50_aa_s,gr_m_100_aa_s,\"PDKCM\",\"AA\")\n",
    "comparison_strain(gr_m_0_dd_s,gr_m_50_dd_s,gr_m_100_dd_s,\"PDKCM\",\"DD\")\n",
    "# comparison_strain(gr_m_0_da_s,gr_m_50_da_s,gr_m_100_da_s,\"PDKCM\",\"DA\")"
   ]
  },
  {
   "cell_type": "code",
   "execution_count": null,
   "metadata": {},
   "outputs": [],
   "source": [
    "# comparison_strain(gr_p_0_ad_s,gr_p_50_ad_s,gr_p_100_ad_s,\"PDKCP\",\"AD\")\n",
    "comparison_strain(gr_p_0_aa_s,gr_p_50_aa_s,gr_p_100_aa_s,\"PDKCP\",\"AA\")\n",
    "comparison_strain(gr_p_0_dd_s,gr_p_50_dd_s,gr_p_100_dd_s,\"PDKCP\",\"DD\")\n",
    "# comparison_strain(gr_p_0_da_s,gr_p_50_da_s,gr_p_100_da_s,\"PDKCP\",\"DA\")"
   ]
  },
  {
   "cell_type": "code",
   "execution_count": null,
   "metadata": {},
   "outputs": [],
   "source": [
    "# comparison_strain(gr_h_0_ad_s,gr_h_50_ad_s,gr_h_100_ad_s,\"PDKCH\",\"AD\")\n",
    "comparison_strain(gr_h_0_aa_s,gr_h_50_aa_s,gr_h_100_aa_s,\"PDKCH\",\"AA\")\n",
    "comparison_strain(gr_h_0_dd_s,gr_h_50_dd_s,gr_h_100_dd_s,\"PDKCH\",\"DD\")\n",
    "# comparison_strain(gr_h_0_da_s,gr_h_50_da_s,gr_h_100_da_s,\"PDKCH\",\"DA\")"
   ]
  },
  {
   "cell_type": "code",
   "execution_count": null,
   "metadata": {},
   "outputs": [],
   "source": [
    "# comparison_strain(gr_d_0_ad_s,gr_d_50_ad_s,gr_d_100_ad_s,\"PDKCD\",\"AD\")\n",
    "comparison_strain(gr_d_0_aa_s,gr_d_50_aa_s,gr_d_100_aa_s,\"PDKCD\",\"AA\")\n",
    "comparison_strain(gr_d_0_dd_s,gr_d_50_dd_s,gr_d_100_dd_s,\"PDKCD\",\"DD\")\n",
    "# comparison_strain(gr_d_0_da_s,gr_d_50_da_s,gr_d_100_da_s,\"PDKCD\",\"DA\")"
   ]
  },
  {
   "cell_type": "code",
   "execution_count": null,
   "metadata": {},
   "outputs": [],
   "source": [
    "# def comparison_materials(info_m,info_p,info_h,info_d,type_):\n",
    "#     fig = plt.figure(figsize=(8,6))\n",
    "#     ax = fig.add_subplot(111)\n",
    "\n",
    "#     ax.plot(info_m[:-10,0],info_m[:-10,1],color=\"red\",label='PDKCM')\n",
    "#     ax.plot(info_p[:-10,0],info_p[:-10,1],color=\"blue\",label='PDKCP')\n",
    "#     ax.plot(info_h[:-10,0],info_h[:-10,1],color=\"orange\",label='PDKCH')\n",
    "#     ax.plot(info_d[:-10,0],info_d[:-10,1],color=\"green\",label='PDKCD')\n",
    "\n",
    "#     if type_==\"AD\":\n",
    "#         ax.set_xlabel(\"$r_{AD}$ ($\\AA$)\",fontsize=20)\n",
    "#         ax.set_ylabel(\"$g(r_{AD})$ \",fontsize=20)\n",
    "#     elif type_==\"AA\":\n",
    "#         ax.set_xlabel(\"$r_{AA}$ ($\\AA$)\",fontsize=20)\n",
    "#         ax.set_ylabel(\"$g(r_{AA})$ \",fontsize=20)\n",
    "#     elif type_==\"DD\":\n",
    "#         ax.set_xlabel(\"$r_{DD}$ ($\\AA$)\",fontsize=20)\n",
    "#         ax.set_ylabel(\"$g(r_{DD})$ \",fontsize=20)\n",
    "#     elif type_==\"DA\":\n",
    "#         ax.set_xlabel(\"$r_{DA}$ ($\\AA$)\",fontsize=20)\n",
    "#         ax.set_ylabel(\"$g(r_{DA})$ \",fontsize=20)\n",
    "\n",
    "#     plt.legend(fontsize=18)\n",
    "#     plt.savefig(f\"All_{type_}.pdf\")\n",
    "#     plt.show()"
   ]
  },
  {
   "cell_type": "code",
   "execution_count": null,
   "metadata": {},
   "outputs": [],
   "source": [
    "# comparison_materials(gr_m_0_ad_s,gr_p_0_ad_s,gr_h_0_ad_s,gr_d_0_ad_s,\"AD\")\n",
    "# comparison_materials(gr_m_0_aa_s,gr_p_0_aa_s,gr_h_0_aa_s,gr_d_0_aa_s,\"AA\")\n",
    "# comparison_materials(gr_m_0_dd_s,gr_p_0_dd_s,gr_h_0_dd_s,gr_d_0_dd_s,\"DD\")\n",
    "# comparison_materials(gr_m_0_da_s,gr_p_0_da_s,gr_h_0_da_s,gr_d_0_da_s,\"DA\")"
   ]
  },
  {
   "cell_type": "code",
   "execution_count": null,
   "metadata": {},
   "outputs": [],
   "source": [
    "def write_data(data_AA,data_DD,data_AA_smooth,data_DD_smooth,name,strain):\n",
    "    \n",
    "    def average(data):\n",
    "        info_ = np.zeros((len(data[0]),2))\n",
    "        \n",
    "        for r in range (len(data[0])):\n",
    "            info_[r,0] = data[0][r,0]\n",
    "            for t in range (len(data)):\n",
    "                info_[r,1] += data[t][r,1]/len(data)\n",
    "        return info_\n",
    "            \n",
    "    info_aa = average(data_AA)\n",
    "    info_dd = average(data_DD)\n",
    "    info_aas = average(data_AA_smooth)\n",
    "    info_dds = average(data_DD_smooth)\n",
    "    \n",
    "    file = open(f\"{name}_{strain}.txt\",\"w\")\n",
    "    file.write(\"distance      AA      DD      AA(s)      DD(s)\")\n",
    "    file.write(\"\\n\")\n",
    "    \n",
    "    for i in range (len(info_aa)):\n",
    "        file.write(\"%.2f\"%(info_aa[i,0])+\"      \")\n",
    "        file.write(\"%.4f\"%(info_aa[i,1])+\"     \")\n",
    "        file.write(\"%.4f\"%(info_dd[i,1])+\"     \")\n",
    "        file.write(\"%.4f\"%(info_aas[i,1])+\"     \")\n",
    "        file.write(\"%.4f\"%(info_dds[i,1])+\"     \")\n",
    "        file.write(\"\\n\")\n",
    "    file.close()"
   ]
  },
  {
   "cell_type": "code",
   "execution_count": null,
   "metadata": {},
   "outputs": [],
   "source": [
    "# # write_data(gr_m_0_aa,gr_m_0_dd,gr_m_0_aa_s,gr_m_0_dd_s,\"M\",0)\n",
    "# write_data(gr_m_50_aa,gr_m_50_dd,gr_m_50_aa_s,gr_m_50_dd_s,\"M\",50)\n",
    "# write_data(gr_m_100_aa,gr_m_100_dd,gr_m_100_aa_s,gr_m_100_dd_s,\"M\",100)\n",
    "\n",
    "# # write_data(gr_p_0_aa,gr_p_0_dd,gr_p_0_aa_s,gr_p_0_dd_s,\"P\",0)\n",
    "# write_data(gr_p_50_aa,gr_p_50_dd,gr_p_50_aa_s,gr_p_50_dd_s,\"P\",50)\n",
    "# write_data(gr_p_100_aa,gr_p_100_dd,gr_p_100_aa_s,gr_p_100_dd_s,\"P\",100)\n",
    "\n",
    "# # write_data(gr_h_0_aa,gr_h_0_dd,gr_h_0_aa_s,gr_h_0_dd_s,\"H\",0)\n",
    "# write_data(gr_h_50_aa,gr_h_50_dd,gr_h_50_aa_s,gr_h_50_dd_s,\"H\",50)\n",
    "# write_data(gr_h_100_aa,gr_h_100_dd,gr_h_100_aa_s,gr_h_100_dd_s,\"H\",100)\n",
    "\n",
    "# # write_data(gr_d_0_aa,gr_d_0_dd,gr_d_0_aa_s,gr_d_0_dd_s,\"D\",0)\n",
    "# write_data(gr_d_50_aa,gr_d_50_dd,gr_d_50_aa_s,gr_d_50_dd_s,\"D\",50)\n",
    "# write_data(gr_d_100_aa,gr_d_100_dd,gr_d_100_aa_s,gr_d_100_dd_s,\"D\",100)"
   ]
  },
  {
   "cell_type": "code",
   "execution_count": null,
   "metadata": {},
   "outputs": [],
   "source": [
    "def have_a_look(data_ori,data_smooth,name,type_):\n",
    "    fig = plt.figure(figsize=(8,6))\n",
    "    ax = fig.add_subplot(111)\n",
    "\n",
    "    def average(data):\n",
    "        info_ = np.zeros((len(data[0]),2))\n",
    "\n",
    "        for r in range (len(data[0])):\n",
    "            info_[r,0] = data[0][r,0]\n",
    "            for t in range (len(data)):\n",
    "                info_[r,1] += data[t][r,1]/len(data)\n",
    "        return info_\n",
    "\n",
    "    test1 = average(data_ori)\n",
    "    test2 = average(data_smooth)\n",
    "\n",
    "    ax.plot(test1[:-10,0],test1[:-10,1],color=\"black\",label='ori')\n",
    "    ax.plot(test2[:-10,0],test2[:-10,1],color=\"red\",label='smooth')\n",
    "    \n",
    "    ax.set_xlabel(\"r ($\\AA$)\",fontsize=20)\n",
    "    ax.set_ylabel(\"$g_{r}$\",fontsize=20)\n",
    "    ax.set_title(f\"{name} {type_}\",fontsize=20)\n",
    "    \n",
    "    plt.legend()\n",
    "    plt.show()"
   ]
  },
  {
   "cell_type": "code",
   "execution_count": null,
   "metadata": {},
   "outputs": [],
   "source": []
  }
 ],
 "metadata": {
  "kernelspec": {
   "display_name": "Python 3",
   "language": "python",
   "name": "python3"
  },
  "language_info": {
   "codemirror_mode": {
    "name": "ipython",
    "version": 3
   },
   "file_extension": ".py",
   "mimetype": "text/x-python",
   "name": "python",
   "nbconvert_exporter": "python",
   "pygments_lexer": "ipython3",
   "version": "3.7.6"
  }
 },
 "nbformat": 4,
 "nbformat_minor": 4
}
