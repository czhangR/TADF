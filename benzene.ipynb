{
 "cells": [
  {
   "cell_type": "markdown",
   "metadata": {},
   "source": [
    "# Analyze the radial distribution function\n",
    "### For cubic boxes"
   ]
  },
  {
   "cell_type": "code",
   "execution_count": 1,
   "metadata": {},
   "outputs": [],
   "source": [
    "import numpy as np\n",
    "import copy\n",
    "import matplotlib.pyplot as plt"
   ]
  },
  {
   "cell_type": "markdown",
   "metadata": {},
   "source": [
    "# Basic information"
   ]
  },
  {
   "cell_type": "code",
   "execution_count": 2,
   "metadata": {},
   "outputs": [],
   "source": [
    "Natom = 12        # the number of atoms in one molecule\n",
    "Box = 64          # How many boxes\n",
    "atom_index = 1   # which atom do you aim at?\n",
    "Box_size = 61.9667    # Length of total indiviual box\n",
    "bins = 100\n",
    "\n",
    "file = open(\"benzene_npt.trj\",\"r\")\n",
    "trajectory = file.readlines()\n",
    "file.close()"
   ]
  },
  {
   "cell_type": "code",
   "execution_count": 3,
   "metadata": {},
   "outputs": [],
   "source": [
    "# indices = [index for index, element in enumerate(trajectory) if element == \"ITEM: TIMESTEP\\n\"]\n",
    "indexes = []\n",
    "time_steps = []\n",
    "for i in range (len(trajectory)):\n",
    "    if trajectory[i]==\"ITEM: TIMESTEP\\n\":\n",
    "        indexes.append(i)\n",
    "        tempo = trajectory[i+1].split()\n",
    "        time_steps.append(int(tempo[0]))\n",
    "\n",
    "timelines = np.zeros((len(indexes),3))\n",
    "for i in range (len(indexes)):\n",
    "    timelines[i,0] = i\n",
    "    timelines[i,2] = int(indexes[i])\n",
    "    timelines[i,1] = int(time_steps[i])\n",
    "        \n",
    "Ntot = int(trajectory[trajectory.index(\"ITEM: NUMBER OF ATOMS\\n\")+1])\n",
    "repeat_index = int(Ntot/Natom)"
   ]
  },
  {
   "cell_type": "markdown",
   "metadata": {},
   "source": [
    "## Once you get these parameters, there is no need to change the code below"
   ]
  },
  {
   "cell_type": "code",
   "execution_count": 4,
   "metadata": {},
   "outputs": [],
   "source": [
    "def distance(list1,list2,Box_size):\n",
    "    x = list1[0]-list2[0]\n",
    "    y = list1[1]-list2[1]\n",
    "    z = list1[2]-list2[2]\n",
    "    x = x-Box_size*round(x/Box_size)\n",
    "    y = y-Box_size*round(y/Box_size)\n",
    "    z = z-Box_size*round(z/Box_size)\n",
    "    return np.sqrt(x**2+y**2+z**2)"
   ]
  },
  {
   "cell_type": "code",
   "execution_count": 5,
   "metadata": {},
   "outputs": [],
   "source": [
    "def position_wrap(list1,Box_size):\n",
    "    for i in range (len(list1)):\n",
    "        list1[i][0] = list1[i][0]-Box_size*(list1[i][0]//Box_size)\n",
    "        list1[i][1] = list1[i][1]-Box_size*(list1[i][1]//Box_size)\n",
    "        list1[i][2] = list1[i][2]-Box_size*(list1[i][2]//Box_size)\n",
    "    return list1"
   ]
  },
  {
   "cell_type": "code",
   "execution_count": 6,
   "metadata": {},
   "outputs": [],
   "source": [
    "p = int(timelines[-1][0])\n",
    "time = time_steps[p]\n",
    "position = []\n",
    "for ind in range (indexes[p]+9,len(trajectory)):\n",
    "    position.append(trajectory[ind].split())\n",
    "    \n",
    "atom_position = []\n",
    "for ind in range (len(position)):\n",
    "    if (ind+1-atom_index)%Natom == 0:\n",
    "        atom_position.append([float(position[ind][2]),float(position[ind][3]),float(position[ind][4])])\n",
    "atom_position = position_wrap(atom_position,Box_size)\n",
    "        \n",
    "# get the radial distribution\n",
    "radial_distribution = []\n",
    "for i in range (len(atom_position)):\n",
    "    for j in range (0,i):\n",
    "        r = distance(atom_position[i],atom_position[j],Box_size)\n",
    "        radial_distribution.append(r)\n",
    "        \n",
    "rdf = np.zeros((len(radial_distribution),1))\n",
    "for i in range (len(radial_distribution)):\n",
    "    rdf[i,0] = float(radial_distribution[i])"
   ]
  },
  {
   "cell_type": "markdown",
   "metadata": {},
   "source": [
    "#### Here you get the radial distribution at the end point"
   ]
  },
  {
   "cell_type": "code",
   "execution_count": 7,
   "metadata": {},
   "outputs": [],
   "source": [
    "def sphere(r):\n",
    "    return(4/3*np.pi*r**3)\n",
    "\n",
    "def volume2(r,L):\n",
    "    x = r/L\n",
    "    return (-np.pi/12*(3-36*x**2+32*x**3))*L**3\n",
    "           \n",
    "def volume3(r,L):\n",
    "    x = r/L\n",
    "    return (-np.pi/4. + 3*np.pi*x**2 + np.sqrt(4*x**2-2) + (1-12*x**2)*np.arctan(np.sqrt(4*x**2-2)) + 2/3*x**2*8*x*np.arctan((2*x*(4*x**2-3))/(np.sqrt(4*x**2-2)*(4*x**2+1))) )*L**3  "
   ]
  },
  {
   "cell_type": "code",
   "execution_count": 8,
   "metadata": {},
   "outputs": [],
   "source": [
    "def count(list1,data,Natom,Box_size):\n",
    "    dis = np.zeros((len(list1)-1,2))\n",
    "    \n",
    "    vol = np.zeros((len(list1),2))\n",
    "    for i in range(len(list1)):\n",
    "        vol[i,0] = list1[i]\n",
    "        if vol[i,0]<= Box_size/2:\n",
    "            vol[i,1] = sphere(list1[i])\n",
    "        elif vol[i,0]<= Box_size*np.sqrt(2)/2:\n",
    "            vol[i,1] = volume2(list1[i],Box_size)\n",
    "        elif vol[i,0]<= Box_size*np.sqrt(3)/2 :\n",
    "            vol[i,1] = volume3(list1[i],Box_size)\n",
    "    \n",
    "    for i in range (len(data)):\n",
    "        for j in range (len(list1)):\n",
    "            if data[i]>list1[j] and data[i]<=list1[j+1]:\n",
    "                dis[j,1] += 1\n",
    "                \n",
    "    for i in range (len(dis)):\n",
    "        dis[i,0] = (list1[i]+list1[i+1])/2\n",
    "        dis[i,1] = dis[i,1]*2/Natom/(vol[i+1,1]-vol[i,1])        \n",
    "\n",
    "    return dis"
   ]
  },
  {
   "cell_type": "code",
   "execution_count": 9,
   "metadata": {},
   "outputs": [],
   "source": [
    "# calculate\n",
    "r_max = np.max(rdf)\n",
    "r_distribute = np.linspace(0,r_max,bins+1)\n",
    "vol_tot = Box_size**3\n",
    "\n",
    "distribute = count(r_distribute,rdf,len(atom_position),Box_size)\n",
    "distribute[:,1] = distribute[:,1]/(len(atom_position)/vol_tot)"
   ]
  },
  {
   "cell_type": "code",
   "execution_count": 14,
   "metadata": {},
   "outputs": [
    {
     "data": {
      "image/png": "[encoded data removed]",
      "text/plain": [
       "<Figure size 432x288 with 1 Axes>"
      ]
     },
     "metadata": {
      "needs_background": "light"
     },
     "output_type": "display_data"
    }
   ],
   "source": [
    "plt.plot(distribute[:30,0],distribute[:30,1])\n",
    "plt.xlabel(\"r (A)\")\n",
    "plt.ylabel(\"g(r)\")\n",
    "plt.ylim(0,2.5)\n",
    "plt.savefig(\"benzene.pdf\")\n",
    "plt.show()"
   ]
  },
  {
   "cell_type": "code",
   "execution_count": 11,
   "metadata": {},
   "outputs": [
    {
     "data": {
      "text/plain": [
       "53.66473638868917"
      ]
     },
     "execution_count": 11,
     "metadata": {},
     "output_type": "execute_result"
    }
   ],
   "source": [
    "61.9667/2*np.sqrt(3)"
   ]
  },
  {
   "cell_type": "code",
   "execution_count": 12,
   "metadata": {},
   "outputs": [
    {
     "data": {
      "text/plain": [
       "array([10.97902828,  1.03394312])"
      ]
     },
     "execution_count": 12,
     "metadata": {},
     "output_type": "execute_result"
    }
   ],
   "source": [
    "distribute[20]"
   ]
  },
  {
   "cell_type": "code",
   "execution_count": null,
   "metadata": {},
   "outputs": [],
   "source": []
  }
 ],
 "metadata": {
  "kernelspec": {
   "display_name": "Python 3",
   "language": "python",
   "name": "python3"
  },
  "language_info": {
   "codemirror_mode": {
    "name": "ipython",
    "version": 3
   },
   "file_extension": ".py",
   "mimetype": "text/x-python",
   "name": "python",
   "nbconvert_exporter": "python",
   "pygments_lexer": "ipython3",
   "version": "3.7.4"
  }
 },
 "nbformat": 4,
 "nbformat_minor": 4
}
